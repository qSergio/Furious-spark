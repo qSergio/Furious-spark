{
 "cells": [
  {
   "cell_type": "markdown",
   "id": "31db66f5-0885-4c25-8ccb-031d6978bcbf",
   "metadata": {},
   "source": [
    "# DATOS ABIERTOS DE LA CIUDAD DE MÉXICO"
   ]
  },
  {
   "cell_type": "code",
   "execution_count": 1,
   "id": "f884a5d1-22cc-4f92-abb5-5e86fd671c7d",
   "metadata": {},
   "outputs": [],
   "source": [
    "import pandas as pd\n",
    "import numpy as np\n",
    "import seaborn as sns\n",
    "import matplotlib.pyplot as plt\n",
    "\n",
    "## For plotting\n",
    "import plotly.express as px\n",
    "import plotly.graph_objects as go\n",
    "import plotly.tools"
   ]
  },
  {
   "cell_type": "code",
   "execution_count": 2,
   "id": "32f115bb-7cd4-449c-b330-7507974c65a8",
   "metadata": {},
   "outputs": [],
   "source": [
    "pd.set_option('display.max_rows', None)\n",
    "pd.set_option('display.max_columns', None)"
   ]
  },
  {
   "cell_type": "code",
   "execution_count": 3,
   "id": "820f54a2-6aa4-47d4-b0d0-1195961c17f0",
   "metadata": {},
   "outputs": [
    {
     "name": "stderr",
     "output_type": "stream",
     "text": [
      "/Users/anieto/miniconda3/envs/zsessions/lib/python3.9/site-packages/IPython/core/interactiveshell.py:3165: DtypeWarning:\n",
      "\n",
      "Columns (15) have mixed types.Specify dtype option on import or set low_memory=False.\n",
      "\n"
     ]
    }
   ],
   "source": [
    "carpetas = pd.read_csv('carpetas_completa_abril_2021.csv')"
   ]
  },
  {
   "cell_type": "code",
   "execution_count": 11,
   "id": "04c59458-6067-4c83-84b3-00dd0db32830",
   "metadata": {},
   "outputs": [
    {
     "data": {
      "text/html": [
       "<div>\n",
       "<style scoped>\n",
       "    .dataframe tbody tr th:only-of-type {\n",
       "        vertical-align: middle;\n",
       "    }\n",
       "\n",
       "    .dataframe tbody tr th {\n",
       "        vertical-align: top;\n",
       "    }\n",
       "\n",
       "    .dataframe thead th {\n",
       "        text-align: right;\n",
       "    }\n",
       "</style>\n",
       "<table border=\"1\" class=\"dataframe\">\n",
       "  <thead>\n",
       "    <tr style=\"text-align: right;\">\n",
       "      <th></th>\n",
       "      <th>ao_hechos</th>\n",
       "      <th>mes_hechos</th>\n",
       "      <th>fecha_hechos</th>\n",
       "      <th>ao_inicio</th>\n",
       "      <th>mes_inicio</th>\n",
       "      <th>fecha_inicio</th>\n",
       "      <th>delito</th>\n",
       "      <th>fiscalia</th>\n",
       "      <th>agencia</th>\n",
       "      <th>unidad_investigacion</th>\n",
       "      <th>categoria_delito</th>\n",
       "      <th>calle_hechos</th>\n",
       "      <th>calle_hechos2</th>\n",
       "      <th>colonia_hechos</th>\n",
       "      <th>alcaldia_hechos</th>\n",
       "      <th>competencia</th>\n",
       "      <th>longitud</th>\n",
       "      <th>latitud</th>\n",
       "      <th>tempo</th>\n",
       "    </tr>\n",
       "  </thead>\n",
       "  <tbody>\n",
       "    <tr>\n",
       "      <th>0</th>\n",
       "      <td>2016.0</td>\n",
       "      <td>Enero</td>\n",
       "      <td>2016-01-31 22:16:00</td>\n",
       "      <td>2016</td>\n",
       "      <td>Febrero</td>\n",
       "      <td>2016-02-01 00:25:44</td>\n",
       "      <td>DAÑO EN PROPIEDAD AJENA INTENCIONAL</td>\n",
       "      <td>INVESTIGACIÓN EN BENITO JUÁREZ</td>\n",
       "      <td>BJ-2</td>\n",
       "      <td>UI-3CD</td>\n",
       "      <td>DELITO DE BAJO IMPACTO</td>\n",
       "      <td>CALZ. DE TLALPAN</td>\n",
       "      <td>LAGO PTE.</td>\n",
       "      <td>AMÉRICAS UNIDAS</td>\n",
       "      <td>BENITO JUAREZ</td>\n",
       "      <td>NaN</td>\n",
       "      <td>-99.140215</td>\n",
       "      <td>19.380315</td>\n",
       "      <td>NaN</td>\n",
       "    </tr>\n",
       "    <tr>\n",
       "      <th>1</th>\n",
       "      <td>2016.0</td>\n",
       "      <td>Enero</td>\n",
       "      <td>2016-01-31 20:50:00</td>\n",
       "      <td>2016</td>\n",
       "      <td>Febrero</td>\n",
       "      <td>2016-02-01 00:52:37</td>\n",
       "      <td>ROBO DE VEHICULO DE SERVICIO PARTICULAR CON VI...</td>\n",
       "      <td>INVESTIGACIÓN PARA LA ATENCIÓN DEL DELITO DE R...</td>\n",
       "      <td>ORIENTEII</td>\n",
       "      <td>UI-3CD</td>\n",
       "      <td>ROBO DE VEHÍCULO CON Y SIN VIOLENCIA</td>\n",
       "      <td>SUR 25 A</td>\n",
       "      <td>GRANJEROS</td>\n",
       "      <td>LOS CIPRESES</td>\n",
       "      <td>IZTAPALAPA</td>\n",
       "      <td>NaN</td>\n",
       "      <td>-99.108403</td>\n",
       "      <td>19.352859</td>\n",
       "      <td>NaN</td>\n",
       "    </tr>\n",
       "  </tbody>\n",
       "</table>\n",
       "</div>"
      ],
      "text/plain": [
       "   ao_hechos mes_hechos         fecha_hechos  ao_inicio mes_inicio  \\\n",
       "0     2016.0      Enero  2016-01-31 22:16:00       2016    Febrero   \n",
       "1     2016.0      Enero  2016-01-31 20:50:00       2016    Febrero   \n",
       "\n",
       "          fecha_inicio                                             delito  \\\n",
       "0  2016-02-01 00:25:44                DAÑO EN PROPIEDAD AJENA INTENCIONAL   \n",
       "1  2016-02-01 00:52:37  ROBO DE VEHICULO DE SERVICIO PARTICULAR CON VI...   \n",
       "\n",
       "                                            fiscalia    agencia  \\\n",
       "0                     INVESTIGACIÓN EN BENITO JUÁREZ       BJ-2   \n",
       "1  INVESTIGACIÓN PARA LA ATENCIÓN DEL DELITO DE R...  ORIENTEII   \n",
       "\n",
       "  unidad_investigacion                      categoria_delito  \\\n",
       "0               UI-3CD                DELITO DE BAJO IMPACTO   \n",
       "1               UI-3CD  ROBO DE VEHÍCULO CON Y SIN VIOLENCIA   \n",
       "\n",
       "       calle_hechos calle_hechos2   colonia_hechos alcaldia_hechos  \\\n",
       "0  CALZ. DE TLALPAN     LAGO PTE.  AMÉRICAS UNIDAS   BENITO JUAREZ   \n",
       "1          SUR 25 A     GRANJEROS     LOS CIPRESES      IZTAPALAPA   \n",
       "\n",
       "  competencia   longitud    latitud  tempo  \n",
       "0         NaN -99.140215  19.380315    NaN  \n",
       "1         NaN -99.108403  19.352859    NaN  "
      ]
     },
     "execution_count": 11,
     "metadata": {},
     "output_type": "execute_result"
    }
   ],
   "source": [
    "carpetas.head(2)"
   ]
  },
  {
   "cell_type": "markdown",
   "id": "a193548c-59eb-4b11-ae64-664db8ff81d7",
   "metadata": {},
   "source": [
    "#### ¿Cuántos delitos registrados hay en la tabla? ¿Qué rango de tiempo consideran los datos?"
   ]
  },
  {
   "cell_type": "code",
   "execution_count": 4,
   "id": "a3383e0f-4ae5-4d23-b2eb-2d0238e824c2",
   "metadata": {},
   "outputs": [
    {
     "data": {
      "text/plain": [
       "(1208358, 19)"
      ]
     },
     "execution_count": 4,
     "metadata": {},
     "output_type": "execute_result"
    }
   ],
   "source": [
    "carpetas.shape"
   ]
  },
  {
   "cell_type": "code",
   "execution_count": 14,
   "id": "6a2ab7b1-a184-4c50-95a8-f85b263d3c2c",
   "metadata": {},
   "outputs": [],
   "source": [
    "carpetas['fecha_inicio'] = pd.to_datetime(carpetas['fecha_inicio'])\n",
    "carpetas['fecha_hechos'] = pd.to_datetime(carpetas['fecha_hechos'])"
   ]
  },
  {
   "cell_type": "code",
   "execution_count": 72,
   "id": "89e358cc-172a-487a-9df8-b28346db6a3d",
   "metadata": {},
   "outputs": [],
   "source": [
    "carpetas['mes_carpeta'] =  pd.to_datetime(carpetas['fecha_inicio']).dt.month\n",
    "carpetas['anio_carpeta'] =  pd.to_datetime(carpetas['fecha_inicio']).dt.year"
   ]
  },
  {
   "cell_type": "code",
   "execution_count": 16,
   "id": "c19ef4a8-6c40-4de9-97cd-dc8340fa08eb",
   "metadata": {},
   "outputs": [
    {
     "data": {
      "text/plain": [
       "Timestamp('2016-01-01 01:35:06')"
      ]
     },
     "execution_count": 16,
     "metadata": {},
     "output_type": "execute_result"
    }
   ],
   "source": [
    "carpetas['fecha_inicio'].min()"
   ]
  },
  {
   "cell_type": "code",
   "execution_count": 17,
   "id": "b3176a6f-3e59-4933-afb9-766606effb18",
   "metadata": {},
   "outputs": [
    {
     "data": {
      "text/plain": [
       "Timestamp('2021-04-30 23:58:49')"
      ]
     },
     "execution_count": 17,
     "metadata": {},
     "output_type": "execute_result"
    }
   ],
   "source": [
    "carpetas['fecha_inicio'].max()"
   ]
  },
  {
   "cell_type": "code",
   "execution_count": 18,
   "id": "2f822c4d-be78-4326-b132-b02933a62070",
   "metadata": {},
   "outputs": [
    {
     "data": {
      "text/plain": [
       "341"
      ]
     },
     "execution_count": 18,
     "metadata": {},
     "output_type": "execute_result"
    }
   ],
   "source": [
    "carpetas.delito.nunique()"
   ]
  },
  {
   "cell_type": "markdown",
   "id": "26573ad0-48b8-4511-8586-18888e0556e0",
   "metadata": {},
   "source": [
    "Tenemos 1,208,358 delitos registrados de los cuales 341 son diferentes entre el 1 de enero de 2016 y el 30 de abril de 2021."
   ]
  },
  {
   "cell_type": "markdown",
   "id": "b43acf66-e439-4acd-b9e9-cf4054ecbf5c",
   "metadata": {},
   "source": [
    "#### ¿Cómo se distribuye el número de delitos en la CDMX? ¿Cuáles son los 5 delitos más frecuentes?"
   ]
  },
  {
   "cell_type": "code",
   "execution_count": 35,
   "id": "103d0622-c11c-4a46-9f88-8c3a42430b24",
   "metadata": {},
   "outputs": [],
   "source": [
    "import seaborn as sns\n",
    "sns.set(rc={\"figure.figsize\":(8, 10)})"
   ]
  },
  {
   "cell_type": "code",
   "execution_count": 39,
   "id": "d39be069-88e4-46b6-bfed-1666533420d1",
   "metadata": {},
   "outputs": [
    {
     "data": {
      "text/plain": [
       "delito\n",
       "VIOLENCIA FAMILIAR              122800\n",
       "FRAUDE                           73743\n",
       "ROBO DE OBJETOS                  70808\n",
       "ROBO A NEGOCIO SIN VIOLENCIA     66177\n",
       "AMENAZAS                         64353\n",
       "Name: delito, dtype: int64"
      ]
     },
     "execution_count": 39,
     "metadata": {},
     "output_type": "execute_result"
    }
   ],
   "source": [
    "carpetas.groupby('delito')['delito'].count().sort_values(ascending=False).head()"
   ]
  },
  {
   "cell_type": "code",
   "execution_count": 31,
   "id": "24b9e05f-e52f-4691-9ae4-1e3381b1a1e1",
   "metadata": {},
   "outputs": [],
   "source": [
    "c = carpetas.groupby('delito')['delito'].count().sort_values(ascending=False).head(10)"
   ]
  },
  {
   "cell_type": "code",
   "execution_count": 38,
   "id": "0ff79f40-d372-43bf-a416-c0c7460c3d71",
   "metadata": {},
   "outputs": [
    {
     "data": {
      "text/plain": [
       "(array([0, 1, 2, 3, 4, 5, 6, 7, 8, 9]),\n",
       " [Text(0, 0, 'VIOLENCIA FAMILIAR'),\n",
       "  Text(1, 0, 'FRAUDE'),\n",
       "  Text(2, 0, 'ROBO DE OBJETOS'),\n",
       "  Text(3, 0, 'ROBO A NEGOCIO SIN VIOLENCIA'),\n",
       "  Text(4, 0, 'AMENAZAS'),\n",
       "  Text(5, 0, 'ROBO A TRANSEUNTE EN VIA PUBLICA CON VIOLENCIA'),\n",
       "  Text(6, 0, 'DENUNCIA DE HECHOS'),\n",
       "  Text(7, 0, 'ROBO DE ACCESORIOS DE AUTO'),\n",
       "  Text(8, 0, 'ROBO DE OBJETOS DEL INTERIOR DE UN VEHICULO'),\n",
       "  Text(9, 0, 'ROBO DE VEHICULO DE SERVICIO PARTICULAR SIN VIOLENCIA')])"
      ]
     },
     "execution_count": 38,
     "metadata": {},
     "output_type": "execute_result"
    },
    {
     "data": {
      "image/png": "[encoded data removed]",
      "text/plain": [
       "<Figure size 576x720 with 1 Axes>"
      ]
     },
     "metadata": {},
     "output_type": "display_data"
    }
   ],
   "source": [
    "sns.barplot(x=c.index, y=c.values)\n",
    "plt.xticks(rotation=90)"
   ]
  },
  {
   "cell_type": "markdown",
   "id": "c621d0a1-e153-436d-b51f-71f7205ba57e",
   "metadata": {},
   "source": [
    "La variable \"delito\" es categorica con 341 clases de delitos. Su distribución se puede ordenar para mostrar los delitos más frecuentes.\n",
    "\n",
    "Estos son:\n",
    "\n",
    "1. VIOLENCIA FAMILIAR  con            122800 registros\n",
    "2. FRAUDE                           con 73743 registros\n",
    "3. ROBO DE OBJETOS                  con 70808 registros\n",
    "4. ROBO A NEGOCIO SIN VIOLENCIA     con 66177 registros\n",
    "5. AMENAZAS                         con 64353 registros"
   ]
  },
  {
   "cell_type": "markdown",
   "id": "f7a4fd3c-c710-4ea9-a542-f8e93e1c70b6",
   "metadata": {},
   "source": [
    "#### Identifica los delitos que van a la alza y a la baja en la CDMX en el último año (ten cuidado con los delitos con pocas ocurrencias)."
   ]
  },
  {
   "cell_type": "code",
   "execution_count": 40,
   "id": "a47a0cf3-12f7-4a2f-9e53-05ce001b3b3e",
   "metadata": {},
   "outputs": [
    {
     "data": {
      "text/html": [
       "<div>\n",
       "<style scoped>\n",
       "    .dataframe tbody tr th:only-of-type {\n",
       "        vertical-align: middle;\n",
       "    }\n",
       "\n",
       "    .dataframe tbody tr th {\n",
       "        vertical-align: top;\n",
       "    }\n",
       "\n",
       "    .dataframe thead th {\n",
       "        text-align: right;\n",
       "    }\n",
       "</style>\n",
       "<table border=\"1\" class=\"dataframe\">\n",
       "  <thead>\n",
       "    <tr style=\"text-align: right;\">\n",
       "      <th></th>\n",
       "      <th>ao_hechos</th>\n",
       "      <th>mes_hechos</th>\n",
       "      <th>fecha_hechos</th>\n",
       "      <th>ao_inicio</th>\n",
       "      <th>mes_inicio</th>\n",
       "      <th>fecha_inicio</th>\n",
       "      <th>delito</th>\n",
       "      <th>fiscalia</th>\n",
       "      <th>agencia</th>\n",
       "      <th>unidad_investigacion</th>\n",
       "      <th>categoria_delito</th>\n",
       "      <th>calle_hechos</th>\n",
       "      <th>calle_hechos2</th>\n",
       "      <th>colonia_hechos</th>\n",
       "      <th>alcaldia_hechos</th>\n",
       "      <th>competencia</th>\n",
       "      <th>longitud</th>\n",
       "      <th>latitud</th>\n",
       "      <th>tempo</th>\n",
       "    </tr>\n",
       "  </thead>\n",
       "  <tbody>\n",
       "    <tr>\n",
       "      <th>0</th>\n",
       "      <td>2016.0</td>\n",
       "      <td>Enero</td>\n",
       "      <td>2016-01-31 22:16:00</td>\n",
       "      <td>2016</td>\n",
       "      <td>Febrero</td>\n",
       "      <td>2016-02-01 00:25:44</td>\n",
       "      <td>DAÑO EN PROPIEDAD AJENA INTENCIONAL</td>\n",
       "      <td>INVESTIGACIÓN EN BENITO JUÁREZ</td>\n",
       "      <td>BJ-2</td>\n",
       "      <td>UI-3CD</td>\n",
       "      <td>DELITO DE BAJO IMPACTO</td>\n",
       "      <td>CALZ. DE TLALPAN</td>\n",
       "      <td>LAGO PTE.</td>\n",
       "      <td>AMÉRICAS UNIDAS</td>\n",
       "      <td>BENITO JUAREZ</td>\n",
       "      <td>NaN</td>\n",
       "      <td>-99.140215</td>\n",
       "      <td>19.380315</td>\n",
       "      <td>NaN</td>\n",
       "    </tr>\n",
       "    <tr>\n",
       "      <th>1</th>\n",
       "      <td>2016.0</td>\n",
       "      <td>Enero</td>\n",
       "      <td>2016-01-31 20:50:00</td>\n",
       "      <td>2016</td>\n",
       "      <td>Febrero</td>\n",
       "      <td>2016-02-01 00:52:37</td>\n",
       "      <td>ROBO DE VEHICULO DE SERVICIO PARTICULAR CON VI...</td>\n",
       "      <td>INVESTIGACIÓN PARA LA ATENCIÓN DEL DELITO DE R...</td>\n",
       "      <td>ORIENTEII</td>\n",
       "      <td>UI-3CD</td>\n",
       "      <td>ROBO DE VEHÍCULO CON Y SIN VIOLENCIA</td>\n",
       "      <td>SUR 25 A</td>\n",
       "      <td>GRANJEROS</td>\n",
       "      <td>LOS CIPRESES</td>\n",
       "      <td>IZTAPALAPA</td>\n",
       "      <td>NaN</td>\n",
       "      <td>-99.108403</td>\n",
       "      <td>19.352859</td>\n",
       "      <td>NaN</td>\n",
       "    </tr>\n",
       "  </tbody>\n",
       "</table>\n",
       "</div>"
      ],
      "text/plain": [
       "   ao_hechos mes_hechos        fecha_hechos  ao_inicio mes_inicio  \\\n",
       "0     2016.0      Enero 2016-01-31 22:16:00       2016    Febrero   \n",
       "1     2016.0      Enero 2016-01-31 20:50:00       2016    Febrero   \n",
       "\n",
       "         fecha_inicio                                             delito  \\\n",
       "0 2016-02-01 00:25:44                DAÑO EN PROPIEDAD AJENA INTENCIONAL   \n",
       "1 2016-02-01 00:52:37  ROBO DE VEHICULO DE SERVICIO PARTICULAR CON VI...   \n",
       "\n",
       "                                            fiscalia    agencia  \\\n",
       "0                     INVESTIGACIÓN EN BENITO JUÁREZ       BJ-2   \n",
       "1  INVESTIGACIÓN PARA LA ATENCIÓN DEL DELITO DE R...  ORIENTEII   \n",
       "\n",
       "  unidad_investigacion                      categoria_delito  \\\n",
       "0               UI-3CD                DELITO DE BAJO IMPACTO   \n",
       "1               UI-3CD  ROBO DE VEHÍCULO CON Y SIN VIOLENCIA   \n",
       "\n",
       "       calle_hechos calle_hechos2   colonia_hechos alcaldia_hechos  \\\n",
       "0  CALZ. DE TLALPAN     LAGO PTE.  AMÉRICAS UNIDAS   BENITO JUAREZ   \n",
       "1          SUR 25 A     GRANJEROS     LOS CIPRESES      IZTAPALAPA   \n",
       "\n",
       "  competencia   longitud    latitud  tempo  \n",
       "0         NaN -99.140215  19.380315    NaN  \n",
       "1         NaN -99.108403  19.352859    NaN  "
      ]
     },
     "execution_count": 40,
     "metadata": {},
     "output_type": "execute_result"
    }
   ],
   "source": [
    "carpetas.head(2)"
   ]
  },
  {
   "cell_type": "code",
   "execution_count": 41,
   "id": "9e5216d0-bb50-4eae-9a0c-c1d8aaea2dd4",
   "metadata": {},
   "outputs": [
    {
     "data": {
      "text/plain": [
       "2021"
      ]
     },
     "execution_count": 41,
     "metadata": {},
     "output_type": "execute_result"
    }
   ],
   "source": [
    "# Tomando ao_inicio como el año del registro de la carpeta de investigación.\n",
    "\n",
    "carpetas.ao_inicio.max()"
   ]
  },
  {
   "cell_type": "code",
   "execution_count": 61,
   "id": "6f500c2b-29f5-402c-9f64-7fa7f57f95f6",
   "metadata": {},
   "outputs": [
    {
     "data": {
      "text/html": [
       "<div>\n",
       "<style scoped>\n",
       "    .dataframe tbody tr th:only-of-type {\n",
       "        vertical-align: middle;\n",
       "    }\n",
       "\n",
       "    .dataframe tbody tr th {\n",
       "        vertical-align: top;\n",
       "    }\n",
       "\n",
       "    .dataframe thead th {\n",
       "        text-align: right;\n",
       "    }\n",
       "</style>\n",
       "<table border=\"1\" class=\"dataframe\">\n",
       "  <thead>\n",
       "    <tr style=\"text-align: right;\">\n",
       "      <th></th>\n",
       "      <th>mes_inicio</th>\n",
       "      <th>delito</th>\n",
       "      <th>unidad_investigacion</th>\n",
       "    </tr>\n",
       "  </thead>\n",
       "  <tbody>\n",
       "    <tr>\n",
       "      <th>0</th>\n",
       "      <td>Marzo</td>\n",
       "      <td>VIOLENCIA FAMILIAR</td>\n",
       "      <td>3323</td>\n",
       "    </tr>\n",
       "    <tr>\n",
       "      <th>1</th>\n",
       "      <td>Marzo</td>\n",
       "      <td>FRAUDE</td>\n",
       "      <td>1634</td>\n",
       "    </tr>\n",
       "    <tr>\n",
       "      <th>2</th>\n",
       "      <td>Marzo</td>\n",
       "      <td>AMENAZAS</td>\n",
       "      <td>1623</td>\n",
       "    </tr>\n",
       "    <tr>\n",
       "      <th>3</th>\n",
       "      <td>Marzo</td>\n",
       "      <td>ROBO DE OBJETOS</td>\n",
       "      <td>980</td>\n",
       "    </tr>\n",
       "    <tr>\n",
       "      <th>4</th>\n",
       "      <td>Marzo</td>\n",
       "      <td>ROBO A TRANSEUNTE EN VIA PUBLICA CON VIOLENCIA</td>\n",
       "      <td>760</td>\n",
       "    </tr>\n",
       "  </tbody>\n",
       "</table>\n",
       "</div>"
      ],
      "text/plain": [
       "  mes_inicio                                          delito  \\\n",
       "0      Marzo                              VIOLENCIA FAMILIAR   \n",
       "1      Marzo                                          FRAUDE   \n",
       "2      Marzo                                        AMENAZAS   \n",
       "3      Marzo                                 ROBO DE OBJETOS   \n",
       "4      Marzo  ROBO A TRANSEUNTE EN VIA PUBLICA CON VIOLENCIA   \n",
       "\n",
       "   unidad_investigacion  \n",
       "0                  3323  \n",
       "1                  1634  \n",
       "2                  1623  \n",
       "3                   980  \n",
       "4                   760  "
      ]
     },
     "execution_count": 61,
     "metadata": {},
     "output_type": "execute_result"
    }
   ],
   "source": [
    "carpetas[carpetas.ao_inicio == 2021].groupby(['mes_inicio',\n",
    "                                              'delito'])[['unidad_investigacion']].count().sort_values(by=['mes_inicio',\n",
    "                                                                                                           'unidad_investigacion'],\n",
    "                                                                                                       ascending=False).reset_index().head()"
   ]
  },
  {
   "cell_type": "code",
   "execution_count": 78,
   "id": "b8f24a49-58ac-4ef9-b656-4cd92178bfa4",
   "metadata": {},
   "outputs": [],
   "source": [
    "df = carpetas[carpetas.ao_inicio == 2021].groupby(['mes_carpeta',\n",
    "                                              'delito'])[['unidad_investigacion']].count().sort_values(by=['delito',\n",
    "                                                                                                           'mes_carpeta'], \n",
    "                                                                                                       ascending=True).reset_index()\n",
    "df.rename(columns={'unidad_investigacion':'num_delitos'}, inplace=True)"
   ]
  },
  {
   "cell_type": "code",
   "execution_count": 81,
   "id": "de0e2d11-591e-4640-8c89-b047ac460682",
   "metadata": {},
   "outputs": [
    {
     "data": {
      "text/html": [
       "<div>\n",
       "<style scoped>\n",
       "    .dataframe tbody tr th:only-of-type {\n",
       "        vertical-align: middle;\n",
       "    }\n",
       "\n",
       "    .dataframe tbody tr th {\n",
       "        vertical-align: top;\n",
       "    }\n",
       "\n",
       "    .dataframe thead th {\n",
       "        text-align: right;\n",
       "    }\n",
       "</style>\n",
       "<table border=\"1\" class=\"dataframe\">\n",
       "  <thead>\n",
       "    <tr style=\"text-align: right;\">\n",
       "      <th></th>\n",
       "      <th>mes_carpeta</th>\n",
       "      <th>delito</th>\n",
       "      <th>num_delitos</th>\n",
       "      <th>delta</th>\n",
       "    </tr>\n",
       "  </thead>\n",
       "  <tbody>\n",
       "    <tr>\n",
       "      <th>0</th>\n",
       "      <td>1.0</td>\n",
       "      <td>ABORTO</td>\n",
       "      <td>8</td>\n",
       "      <td>0.0</td>\n",
       "    </tr>\n",
       "    <tr>\n",
       "      <th>1</th>\n",
       "      <td>2.0</td>\n",
       "      <td>ABORTO</td>\n",
       "      <td>7</td>\n",
       "      <td>-1.0</td>\n",
       "    </tr>\n",
       "    <tr>\n",
       "      <th>2</th>\n",
       "      <td>3.0</td>\n",
       "      <td>ABORTO</td>\n",
       "      <td>3</td>\n",
       "      <td>-4.0</td>\n",
       "    </tr>\n",
       "    <tr>\n",
       "      <th>3</th>\n",
       "      <td>4.0</td>\n",
       "      <td>ABORTO</td>\n",
       "      <td>7</td>\n",
       "      <td>4.0</td>\n",
       "    </tr>\n",
       "    <tr>\n",
       "      <th>4</th>\n",
       "      <td>1.0</td>\n",
       "      <td>ABUSO DE AUTORIDAD Y USO ILEGAL DE LA FUERZA P...</td>\n",
       "      <td>150</td>\n",
       "      <td>0.0</td>\n",
       "    </tr>\n",
       "  </tbody>\n",
       "</table>\n",
       "</div>"
      ],
      "text/plain": [
       "   mes_carpeta                                             delito  \\\n",
       "0          1.0                                             ABORTO   \n",
       "1          2.0                                             ABORTO   \n",
       "2          3.0                                             ABORTO   \n",
       "3          4.0                                             ABORTO   \n",
       "4          1.0  ABUSO DE AUTORIDAD Y USO ILEGAL DE LA FUERZA P...   \n",
       "\n",
       "   num_delitos  delta  \n",
       "0            8    0.0  \n",
       "1            7   -1.0  \n",
       "2            3   -4.0  \n",
       "3            7    4.0  \n",
       "4          150    0.0  "
      ]
     },
     "execution_count": 81,
     "metadata": {},
     "output_type": "execute_result"
    }
   ],
   "source": [
    "df.head()"
   ]
  },
  {
   "cell_type": "code",
   "execution_count": 80,
   "id": "5ed74d14-6a24-48fc-b7a1-d281c39dc507",
   "metadata": {},
   "outputs": [],
   "source": [
    "df['delta'] = df.groupby(['delito'])['num_delitos'].diff().fillna(0)"
   ]
  },
  {
   "cell_type": "code",
   "execution_count": 83,
   "id": "d4da6c9c-6bec-4902-927c-80380024e72b",
   "metadata": {},
   "outputs": [
    {
     "data": {
      "text/html": [
       "<div>\n",
       "<style scoped>\n",
       "    .dataframe tbody tr th:only-of-type {\n",
       "        vertical-align: middle;\n",
       "    }\n",
       "\n",
       "    .dataframe tbody tr th {\n",
       "        vertical-align: top;\n",
       "    }\n",
       "\n",
       "    .dataframe thead th {\n",
       "        text-align: right;\n",
       "    }\n",
       "</style>\n",
       "<table border=\"1\" class=\"dataframe\">\n",
       "  <thead>\n",
       "    <tr style=\"text-align: right;\">\n",
       "      <th></th>\n",
       "      <th>mes_carpeta</th>\n",
       "      <th>delito</th>\n",
       "      <th>num_delitos</th>\n",
       "      <th>delta</th>\n",
       "    </tr>\n",
       "  </thead>\n",
       "  <tbody>\n",
       "    <tr>\n",
       "      <th>0</th>\n",
       "      <td>1.0</td>\n",
       "      <td>ABORTO</td>\n",
       "      <td>8</td>\n",
       "      <td>0.0</td>\n",
       "    </tr>\n",
       "    <tr>\n",
       "      <th>1</th>\n",
       "      <td>2.0</td>\n",
       "      <td>ABORTO</td>\n",
       "      <td>7</td>\n",
       "      <td>-1.0</td>\n",
       "    </tr>\n",
       "    <tr>\n",
       "      <th>2</th>\n",
       "      <td>3.0</td>\n",
       "      <td>ABORTO</td>\n",
       "      <td>3</td>\n",
       "      <td>-4.0</td>\n",
       "    </tr>\n",
       "    <tr>\n",
       "      <th>3</th>\n",
       "      <td>4.0</td>\n",
       "      <td>ABORTO</td>\n",
       "      <td>7</td>\n",
       "      <td>4.0</td>\n",
       "    </tr>\n",
       "    <tr>\n",
       "      <th>4</th>\n",
       "      <td>1.0</td>\n",
       "      <td>ABUSO DE AUTORIDAD Y USO ILEGAL DE LA FUERZA P...</td>\n",
       "      <td>150</td>\n",
       "      <td>0.0</td>\n",
       "    </tr>\n",
       "  </tbody>\n",
       "</table>\n",
       "</div>"
      ],
      "text/plain": [
       "   mes_carpeta                                             delito  \\\n",
       "0          1.0                                             ABORTO   \n",
       "1          2.0                                             ABORTO   \n",
       "2          3.0                                             ABORTO   \n",
       "3          4.0                                             ABORTO   \n",
       "4          1.0  ABUSO DE AUTORIDAD Y USO ILEGAL DE LA FUERZA P...   \n",
       "\n",
       "   num_delitos  delta  \n",
       "0            8    0.0  \n",
       "1            7   -1.0  \n",
       "2            3   -4.0  \n",
       "3            7    4.0  \n",
       "4          150    0.0  "
      ]
     },
     "execution_count": 83,
     "metadata": {},
     "output_type": "execute_result"
    }
   ],
   "source": [
    "df.head()"
   ]
  },
  {
   "cell_type": "code",
   "execution_count": 87,
   "id": "856bdbf6-9049-4981-9742-27fd1a9eec02",
   "metadata": {},
   "outputs": [
    {
     "data": {
      "text/plain": [
       "(884, 4)"
      ]
     },
     "execution_count": 87,
     "metadata": {},
     "output_type": "execute_result"
    }
   ],
   "source": [
    "df.shape"
   ]
  },
  {
   "cell_type": "code",
   "execution_count": 89,
   "id": "fe49b52c-9f86-4676-ac11-ee79aa461a3a",
   "metadata": {},
   "outputs": [],
   "source": [
    "#state_office = df.groupby(['state', 'office_id']).agg({'sales': 'sum'})\n",
    "# Change: groupby state_office and divide by sum\n",
    "#delitos_pcts = \n",
    "df['pct'] = df.groupby(['delito'])['num_delitos'].apply(lambda x:100 * x / float(x.sum()))"
   ]
  },
  {
   "cell_type": "code",
   "execution_count": 90,
   "id": "470757a5-5b9b-420d-9309-7dfd59c38b7b",
   "metadata": {},
   "outputs": [
    {
     "data": {
      "text/html": [
       "<div>\n",
       "<style scoped>\n",
       "    .dataframe tbody tr th:only-of-type {\n",
       "        vertical-align: middle;\n",
       "    }\n",
       "\n",
       "    .dataframe tbody tr th {\n",
       "        vertical-align: top;\n",
       "    }\n",
       "\n",
       "    .dataframe thead th {\n",
       "        text-align: right;\n",
       "    }\n",
       "</style>\n",
       "<table border=\"1\" class=\"dataframe\">\n",
       "  <thead>\n",
       "    <tr style=\"text-align: right;\">\n",
       "      <th></th>\n",
       "      <th>mes_carpeta</th>\n",
       "      <th>delito</th>\n",
       "      <th>num_delitos</th>\n",
       "      <th>delta</th>\n",
       "      <th>pct</th>\n",
       "    </tr>\n",
       "  </thead>\n",
       "  <tbody>\n",
       "    <tr>\n",
       "      <th>0</th>\n",
       "      <td>1.0</td>\n",
       "      <td>ABORTO</td>\n",
       "      <td>8</td>\n",
       "      <td>0.0</td>\n",
       "      <td>32.00000</td>\n",
       "    </tr>\n",
       "    <tr>\n",
       "      <th>1</th>\n",
       "      <td>2.0</td>\n",
       "      <td>ABORTO</td>\n",
       "      <td>7</td>\n",
       "      <td>-1.0</td>\n",
       "      <td>28.00000</td>\n",
       "    </tr>\n",
       "    <tr>\n",
       "      <th>2</th>\n",
       "      <td>3.0</td>\n",
       "      <td>ABORTO</td>\n",
       "      <td>3</td>\n",
       "      <td>-4.0</td>\n",
       "      <td>12.00000</td>\n",
       "    </tr>\n",
       "    <tr>\n",
       "      <th>3</th>\n",
       "      <td>4.0</td>\n",
       "      <td>ABORTO</td>\n",
       "      <td>7</td>\n",
       "      <td>4.0</td>\n",
       "      <td>28.00000</td>\n",
       "    </tr>\n",
       "    <tr>\n",
       "      <th>4</th>\n",
       "      <td>1.0</td>\n",
       "      <td>ABUSO DE AUTORIDAD Y USO ILEGAL DE LA FUERZA P...</td>\n",
       "      <td>150</td>\n",
       "      <td>0.0</td>\n",
       "      <td>22.45509</td>\n",
       "    </tr>\n",
       "  </tbody>\n",
       "</table>\n",
       "</div>"
      ],
      "text/plain": [
       "   mes_carpeta                                             delito  \\\n",
       "0          1.0                                             ABORTO   \n",
       "1          2.0                                             ABORTO   \n",
       "2          3.0                                             ABORTO   \n",
       "3          4.0                                             ABORTO   \n",
       "4          1.0  ABUSO DE AUTORIDAD Y USO ILEGAL DE LA FUERZA P...   \n",
       "\n",
       "   num_delitos  delta       pct  \n",
       "0            8    0.0  32.00000  \n",
       "1            7   -1.0  28.00000  \n",
       "2            3   -4.0  12.00000  \n",
       "3            7    4.0  28.00000  \n",
       "4          150    0.0  22.45509  "
      ]
     },
     "execution_count": 90,
     "metadata": {},
     "output_type": "execute_result"
    }
   ],
   "source": [
    "df.head()"
   ]
  },
  {
   "cell_type": "code",
   "execution_count": 100,
   "id": "e332563d-00fa-4f05-a406-0b88cabaeeac",
   "metadata": {},
   "outputs": [],
   "source": [
    "df['shift1'] = df.groupby('delito')['num_delitos'].shift().fillna()"
   ]
  },
  {
   "cell_type": "code",
   "execution_count": 102,
   "id": "3c3820b8-76c7-4e12-aa01-c023795932d2",
   "metadata": {},
   "outputs": [],
   "source": [
    "df['incremento'] = df['delta']/df['shift1']*100"
   ]
  },
  {
   "cell_type": "code",
   "execution_count": 103,
   "id": "79335bcb-6700-4e25-8d93-9cd285b4fb8f",
   "metadata": {},
   "outputs": [
    {
     "data": {
      "text/html": [
       "<div>\n",
       "<style scoped>\n",
       "    .dataframe tbody tr th:only-of-type {\n",
       "        vertical-align: middle;\n",
       "    }\n",
       "\n",
       "    .dataframe tbody tr th {\n",
       "        vertical-align: top;\n",
       "    }\n",
       "\n",
       "    .dataframe thead th {\n",
       "        text-align: right;\n",
       "    }\n",
       "</style>\n",
       "<table border=\"1\" class=\"dataframe\">\n",
       "  <thead>\n",
       "    <tr style=\"text-align: right;\">\n",
       "      <th></th>\n",
       "      <th>mes_carpeta</th>\n",
       "      <th>delito</th>\n",
       "      <th>num_delitos</th>\n",
       "      <th>delta</th>\n",
       "      <th>pct</th>\n",
       "      <th>incremento</th>\n",
       "      <th>shift1</th>\n",
       "    </tr>\n",
       "  </thead>\n",
       "  <tbody>\n",
       "    <tr>\n",
       "      <th>0</th>\n",
       "      <td>1.0</td>\n",
       "      <td>ABORTO</td>\n",
       "      <td>8</td>\n",
       "      <td>0.0</td>\n",
       "      <td>32.00000</td>\n",
       "      <td>NaN</td>\n",
       "      <td>NaN</td>\n",
       "    </tr>\n",
       "    <tr>\n",
       "      <th>1</th>\n",
       "      <td>2.0</td>\n",
       "      <td>ABORTO</td>\n",
       "      <td>7</td>\n",
       "      <td>-1.0</td>\n",
       "      <td>28.00000</td>\n",
       "      <td>-12.500000</td>\n",
       "      <td>8.0</td>\n",
       "    </tr>\n",
       "    <tr>\n",
       "      <th>2</th>\n",
       "      <td>3.0</td>\n",
       "      <td>ABORTO</td>\n",
       "      <td>3</td>\n",
       "      <td>-4.0</td>\n",
       "      <td>12.00000</td>\n",
       "      <td>-57.142857</td>\n",
       "      <td>7.0</td>\n",
       "    </tr>\n",
       "    <tr>\n",
       "      <th>3</th>\n",
       "      <td>4.0</td>\n",
       "      <td>ABORTO</td>\n",
       "      <td>7</td>\n",
       "      <td>4.0</td>\n",
       "      <td>28.00000</td>\n",
       "      <td>133.333333</td>\n",
       "      <td>3.0</td>\n",
       "    </tr>\n",
       "    <tr>\n",
       "      <th>4</th>\n",
       "      <td>1.0</td>\n",
       "      <td>ABUSO DE AUTORIDAD Y USO ILEGAL DE LA FUERZA P...</td>\n",
       "      <td>150</td>\n",
       "      <td>0.0</td>\n",
       "      <td>22.45509</td>\n",
       "      <td>NaN</td>\n",
       "      <td>NaN</td>\n",
       "    </tr>\n",
       "  </tbody>\n",
       "</table>\n",
       "</div>"
      ],
      "text/plain": [
       "   mes_carpeta                                             delito  \\\n",
       "0          1.0                                             ABORTO   \n",
       "1          2.0                                             ABORTO   \n",
       "2          3.0                                             ABORTO   \n",
       "3          4.0                                             ABORTO   \n",
       "4          1.0  ABUSO DE AUTORIDAD Y USO ILEGAL DE LA FUERZA P...   \n",
       "\n",
       "   num_delitos  delta       pct  incremento  shift1  \n",
       "0            8    0.0  32.00000         NaN     NaN  \n",
       "1            7   -1.0  28.00000  -12.500000     8.0  \n",
       "2            3   -4.0  12.00000  -57.142857     7.0  \n",
       "3            7    4.0  28.00000  133.333333     3.0  \n",
       "4          150    0.0  22.45509         NaN     NaN  "
      ]
     },
     "execution_count": 103,
     "metadata": {},
     "output_type": "execute_result"
    }
   ],
   "source": [
    "df.head()"
   ]
  },
  {
   "cell_type": "code",
   "execution_count": 107,
   "id": "ff4a4d4c-87c2-426f-bab9-d2a194fc03e4",
   "metadata": {},
   "outputs": [
    {
     "data": {
      "text/html": [
       "<div>\n",
       "<style scoped>\n",
       "    .dataframe tbody tr th:only-of-type {\n",
       "        vertical-align: middle;\n",
       "    }\n",
       "\n",
       "    .dataframe tbody tr th {\n",
       "        vertical-align: top;\n",
       "    }\n",
       "\n",
       "    .dataframe thead th {\n",
       "        text-align: right;\n",
       "    }\n",
       "</style>\n",
       "<table border=\"1\" class=\"dataframe\">\n",
       "  <thead>\n",
       "    <tr style=\"text-align: right;\">\n",
       "      <th></th>\n",
       "      <th>mes_carpeta</th>\n",
       "      <th>delito</th>\n",
       "      <th>num_delitos</th>\n",
       "      <th>delta</th>\n",
       "      <th>pct</th>\n",
       "      <th>incremento</th>\n",
       "      <th>shift1</th>\n",
       "      <th>ponderado</th>\n",
       "    </tr>\n",
       "  </thead>\n",
       "  <tbody>\n",
       "    <tr>\n",
       "      <th>0</th>\n",
       "      <td>4.0</td>\n",
       "      <td>ABORTO</td>\n",
       "      <td>7</td>\n",
       "      <td>4.0</td>\n",
       "      <td>28.000000</td>\n",
       "      <td>133.333333</td>\n",
       "      <td>3.0</td>\n",
       "      <td>37.333333</td>\n",
       "    </tr>\n",
       "    <tr>\n",
       "      <th>1</th>\n",
       "      <td>4.0</td>\n",
       "      <td>ACOSO SEXUAL</td>\n",
       "      <td>149</td>\n",
       "      <td>22.0</td>\n",
       "      <td>33.940774</td>\n",
       "      <td>17.322835</td>\n",
       "      <td>127.0</td>\n",
       "      <td>5.879504</td>\n",
       "    </tr>\n",
       "    <tr>\n",
       "      <th>2</th>\n",
       "      <td>4.0</td>\n",
       "      <td>ACOSO SEXUAL AGRAVADO EN CONTRA DE MENORES</td>\n",
       "      <td>2</td>\n",
       "      <td>1.0</td>\n",
       "      <td>18.181818</td>\n",
       "      <td>100.000000</td>\n",
       "      <td>1.0</td>\n",
       "      <td>18.181818</td>\n",
       "    </tr>\n",
       "    <tr>\n",
       "      <th>3</th>\n",
       "      <td>4.0</td>\n",
       "      <td>CONTAMINACIÓN O RESIDUOS</td>\n",
       "      <td>17</td>\n",
       "      <td>7.0</td>\n",
       "      <td>54.838710</td>\n",
       "      <td>70.000000</td>\n",
       "      <td>10.0</td>\n",
       "      <td>38.387097</td>\n",
       "    </tr>\n",
       "    <tr>\n",
       "      <th>4</th>\n",
       "      <td>4.0</td>\n",
       "      <td>CONTRA EL ESTADO CIVIL</td>\n",
       "      <td>2</td>\n",
       "      <td>1.0</td>\n",
       "      <td>66.666667</td>\n",
       "      <td>100.000000</td>\n",
       "      <td>1.0</td>\n",
       "      <td>66.666667</td>\n",
       "    </tr>\n",
       "  </tbody>\n",
       "</table>\n",
       "</div>"
      ],
      "text/plain": [
       "   mes_carpeta                                      delito  num_delitos  \\\n",
       "0          4.0                                      ABORTO            7   \n",
       "1          4.0                                ACOSO SEXUAL          149   \n",
       "2          4.0  ACOSO SEXUAL AGRAVADO EN CONTRA DE MENORES            2   \n",
       "3          4.0                    CONTAMINACIÓN O RESIDUOS           17   \n",
       "4          4.0                      CONTRA EL ESTADO CIVIL            2   \n",
       "\n",
       "   delta        pct  incremento  shift1  ponderado  \n",
       "0    4.0  28.000000  133.333333     3.0  37.333333  \n",
       "1   22.0  33.940774   17.322835   127.0   5.879504  \n",
       "2    1.0  18.181818  100.000000     1.0  18.181818  \n",
       "3    7.0  54.838710   70.000000    10.0  38.387097  \n",
       "4    1.0  66.666667  100.000000     1.0  66.666667  "
      ]
     },
     "execution_count": 107,
     "metadata": {},
     "output_type": "execute_result"
    }
   ],
   "source": [
    "df_inc = df[df['mes_carpeta'] == 4].loc[df['incremento']>0,:].reset_index(drop=True)\n",
    "#df_inc['ponderado'] = df_inc['incremento']*df_inc['pct']/100\n",
    "df_inc.head()"
   ]
  },
  {
   "cell_type": "code",
   "execution_count": 122,
   "id": "09f309b7-04d5-44f5-9870-e292032967cc",
   "metadata": {},
   "outputs": [
    {
     "data": {
      "image/png": "[encoded data removed]",
      "text/plain": [
       "<Figure size 576x720 with 1 Axes>"
      ]
     },
     "metadata": {},
     "output_type": "display_data"
    }
   ],
   "source": [
    "#sns.barplot(x=df_inc.index, y=df_inc.ponderado)\n",
    "sns.barplot(x=\"delito\", y=\"incremento\", \n",
    "            palette=\"pastel\", \n",
    "            edgecolor=\".6\", \n",
    "            data=df_inc[df_inc.delta > 10],\n",
    "            order=df_inc[df_inc.delta > 10].sort_values('incremento').delito\n",
    "           )\n",
    "plt.xticks(rotation=90)\n",
    "plt.show()"
   ]
  },
  {
   "cell_type": "markdown",
   "id": "b049891c-134c-4717-8a3f-8696386a3bf7",
   "metadata": {},
   "source": [
    "En resumen, en 2021, aquellos delitos para los que se abrieron carpeta de investigación y que presentan el mayor incremento porcentual en el último mes registrado y que además hayan incrementado en al menos 10 carpetas son:\n",
    "\n",
    "1. Trata de personas\n",
    "2. Delitos Electorales"
   ]
  },
  {
   "cell_type": "markdown",
   "id": "3970723b-b8f1-4009-9d29-b381ac09dd66",
   "metadata": {},
   "source": [
    "#### ¿Cuál es la alcaldía que más delitos tiene y cuál es la que menos?. ¿Por qué crees que sea esto?"
   ]
  },
  {
   "cell_type": "code",
   "execution_count": 123,
   "id": "fae86fed-41e8-44c2-b3ac-ca5efbccab66",
   "metadata": {},
   "outputs": [
    {
     "data": {
      "text/html": [
       "<div>\n",
       "<style scoped>\n",
       "    .dataframe tbody tr th:only-of-type {\n",
       "        vertical-align: middle;\n",
       "    }\n",
       "\n",
       "    .dataframe tbody tr th {\n",
       "        vertical-align: top;\n",
       "    }\n",
       "\n",
       "    .dataframe thead th {\n",
       "        text-align: right;\n",
       "    }\n",
       "</style>\n",
       "<table border=\"1\" class=\"dataframe\">\n",
       "  <thead>\n",
       "    <tr style=\"text-align: right;\">\n",
       "      <th></th>\n",
       "      <th>ao_hechos</th>\n",
       "      <th>mes_hechos</th>\n",
       "      <th>fecha_hechos</th>\n",
       "      <th>ao_inicio</th>\n",
       "      <th>mes_inicio</th>\n",
       "      <th>fecha_inicio</th>\n",
       "      <th>delito</th>\n",
       "      <th>fiscalia</th>\n",
       "      <th>agencia</th>\n",
       "      <th>unidad_investigacion</th>\n",
       "      <th>categoria_delito</th>\n",
       "      <th>calle_hechos</th>\n",
       "      <th>calle_hechos2</th>\n",
       "      <th>colonia_hechos</th>\n",
       "      <th>alcaldia_hechos</th>\n",
       "      <th>competencia</th>\n",
       "      <th>longitud</th>\n",
       "      <th>latitud</th>\n",
       "      <th>tempo</th>\n",
       "      <th>mes_carpeta</th>\n",
       "      <th>anio_carpeta</th>\n",
       "    </tr>\n",
       "  </thead>\n",
       "  <tbody>\n",
       "    <tr>\n",
       "      <th>0</th>\n",
       "      <td>2016.0</td>\n",
       "      <td>Enero</td>\n",
       "      <td>2016-01-31 22:16:00</td>\n",
       "      <td>2016</td>\n",
       "      <td>Febrero</td>\n",
       "      <td>2016-02-01 00:25:44</td>\n",
       "      <td>DAÑO EN PROPIEDAD AJENA INTENCIONAL</td>\n",
       "      <td>INVESTIGACIÓN EN BENITO JUÁREZ</td>\n",
       "      <td>BJ-2</td>\n",
       "      <td>UI-3CD</td>\n",
       "      <td>DELITO DE BAJO IMPACTO</td>\n",
       "      <td>CALZ. DE TLALPAN</td>\n",
       "      <td>LAGO PTE.</td>\n",
       "      <td>AMÉRICAS UNIDAS</td>\n",
       "      <td>BENITO JUAREZ</td>\n",
       "      <td>NaN</td>\n",
       "      <td>-99.140215</td>\n",
       "      <td>19.380315</td>\n",
       "      <td>NaN</td>\n",
       "      <td>2.0</td>\n",
       "      <td>2016.0</td>\n",
       "    </tr>\n",
       "    <tr>\n",
       "      <th>1</th>\n",
       "      <td>2016.0</td>\n",
       "      <td>Enero</td>\n",
       "      <td>2016-01-31 20:50:00</td>\n",
       "      <td>2016</td>\n",
       "      <td>Febrero</td>\n",
       "      <td>2016-02-01 00:52:37</td>\n",
       "      <td>ROBO DE VEHICULO DE SERVICIO PARTICULAR CON VI...</td>\n",
       "      <td>INVESTIGACIÓN PARA LA ATENCIÓN DEL DELITO DE R...</td>\n",
       "      <td>ORIENTEII</td>\n",
       "      <td>UI-3CD</td>\n",
       "      <td>ROBO DE VEHÍCULO CON Y SIN VIOLENCIA</td>\n",
       "      <td>SUR 25 A</td>\n",
       "      <td>GRANJEROS</td>\n",
       "      <td>LOS CIPRESES</td>\n",
       "      <td>IZTAPALAPA</td>\n",
       "      <td>NaN</td>\n",
       "      <td>-99.108403</td>\n",
       "      <td>19.352859</td>\n",
       "      <td>NaN</td>\n",
       "      <td>2.0</td>\n",
       "      <td>2016.0</td>\n",
       "    </tr>\n",
       "    <tr>\n",
       "      <th>2</th>\n",
       "      <td>2016.0</td>\n",
       "      <td>Febrero</td>\n",
       "      <td>2016-02-01 00:30:00</td>\n",
       "      <td>2016</td>\n",
       "      <td>Febrero</td>\n",
       "      <td>2016-02-01 01:33:26</td>\n",
       "      <td>NARCOMENUDEO POSESION SIMPLE</td>\n",
       "      <td>INVESTIGACIÓN PARA LA ATENCIÓN DE NIÑOS, NIÑAS...</td>\n",
       "      <td>57</td>\n",
       "      <td>UI-3CD</td>\n",
       "      <td>DELITO DE BAJO IMPACTO</td>\n",
       "      <td>BATALLONES ROJOS</td>\n",
       "      <td>NaN</td>\n",
       "      <td>UNIDAD VICENTE GUERRERO</td>\n",
       "      <td>IZTAPALAPA</td>\n",
       "      <td>NaN</td>\n",
       "      <td>-99.061321</td>\n",
       "      <td>19.356451</td>\n",
       "      <td>NaN</td>\n",
       "      <td>2.0</td>\n",
       "      <td>2016.0</td>\n",
       "    </tr>\n",
       "  </tbody>\n",
       "</table>\n",
       "</div>"
      ],
      "text/plain": [
       "   ao_hechos mes_hechos        fecha_hechos  ao_inicio mes_inicio  \\\n",
       "0     2016.0      Enero 2016-01-31 22:16:00       2016    Febrero   \n",
       "1     2016.0      Enero 2016-01-31 20:50:00       2016    Febrero   \n",
       "2     2016.0    Febrero 2016-02-01 00:30:00       2016    Febrero   \n",
       "\n",
       "         fecha_inicio                                             delito  \\\n",
       "0 2016-02-01 00:25:44                DAÑO EN PROPIEDAD AJENA INTENCIONAL   \n",
       "1 2016-02-01 00:52:37  ROBO DE VEHICULO DE SERVICIO PARTICULAR CON VI...   \n",
       "2 2016-02-01 01:33:26                       NARCOMENUDEO POSESION SIMPLE   \n",
       "\n",
       "                                            fiscalia    agencia  \\\n",
       "0                     INVESTIGACIÓN EN BENITO JUÁREZ       BJ-2   \n",
       "1  INVESTIGACIÓN PARA LA ATENCIÓN DEL DELITO DE R...  ORIENTEII   \n",
       "2  INVESTIGACIÓN PARA LA ATENCIÓN DE NIÑOS, NIÑAS...         57   \n",
       "\n",
       "  unidad_investigacion                      categoria_delito  \\\n",
       "0               UI-3CD                DELITO DE BAJO IMPACTO   \n",
       "1               UI-3CD  ROBO DE VEHÍCULO CON Y SIN VIOLENCIA   \n",
       "2               UI-3CD                DELITO DE BAJO IMPACTO   \n",
       "\n",
       "       calle_hechos calle_hechos2           colonia_hechos alcaldia_hechos  \\\n",
       "0  CALZ. DE TLALPAN     LAGO PTE.          AMÉRICAS UNIDAS   BENITO JUAREZ   \n",
       "1          SUR 25 A     GRANJEROS             LOS CIPRESES      IZTAPALAPA   \n",
       "2  BATALLONES ROJOS           NaN  UNIDAD VICENTE GUERRERO      IZTAPALAPA   \n",
       "\n",
       "  competencia   longitud    latitud  tempo  mes_carpeta  anio_carpeta  \n",
       "0         NaN -99.140215  19.380315    NaN          2.0        2016.0  \n",
       "1         NaN -99.108403  19.352859    NaN          2.0        2016.0  \n",
       "2         NaN -99.061321  19.356451    NaN          2.0        2016.0  "
      ]
     },
     "execution_count": 123,
     "metadata": {},
     "output_type": "execute_result"
    }
   ],
   "source": [
    "carpetas.head(3)"
   ]
  },
  {
   "cell_type": "code",
   "execution_count": 142,
   "id": "6aafc3aa-6745-4d3e-9321-0d684e12c4e2",
   "metadata": {},
   "outputs": [
    {
     "data": {
      "text/html": [
       "<div>\n",
       "<style scoped>\n",
       "    .dataframe tbody tr th:only-of-type {\n",
       "        vertical-align: middle;\n",
       "    }\n",
       "\n",
       "    .dataframe tbody tr th {\n",
       "        vertical-align: top;\n",
       "    }\n",
       "\n",
       "    .dataframe thead th {\n",
       "        text-align: right;\n",
       "    }\n",
       "</style>\n",
       "<table border=\"1\" class=\"dataframe\">\n",
       "  <thead>\n",
       "    <tr style=\"text-align: right;\">\n",
       "      <th></th>\n",
       "      <th>alcaldia_hechos</th>\n",
       "      <th>delito</th>\n",
       "    </tr>\n",
       "  </thead>\n",
       "  <tbody>\n",
       "    <tr>\n",
       "      <th>140</th>\n",
       "      <td>CUAUHTEMOC</td>\n",
       "      <td>188304</td>\n",
       "    </tr>\n",
       "    <tr>\n",
       "      <th>217</th>\n",
       "      <td>IZTAPALAPA</td>\n",
       "      <td>181818</td>\n",
       "    </tr>\n",
       "    <tr>\n",
       "      <th>184</th>\n",
       "      <td>GUSTAVO A MADERO</td>\n",
       "      <td>121166</td>\n",
       "    </tr>\n",
       "    <tr>\n",
       "      <th>68</th>\n",
       "      <td>BENITO JUAREZ</td>\n",
       "      <td>100539</td>\n",
       "    </tr>\n",
       "    <tr>\n",
       "      <th>29</th>\n",
       "      <td>ALVARO OBREGON</td>\n",
       "      <td>82051</td>\n",
       "    </tr>\n",
       "  </tbody>\n",
       "</table>\n",
       "</div>"
      ],
      "text/plain": [
       "      alcaldia_hechos  delito\n",
       "140        CUAUHTEMOC  188304\n",
       "217        IZTAPALAPA  181818\n",
       "184  GUSTAVO A MADERO  121166\n",
       "68      BENITO JUAREZ  100539\n",
       "29     ALVARO OBREGON   82051"
      ]
     },
     "execution_count": 142,
     "metadata": {},
     "output_type": "execute_result"
    }
   ],
   "source": [
    "carpetas.groupby(['alcaldia_hechos'])['delito'].count().reset_index().sort_values('delito', \n",
    "                                                                                  ascending=False).head(5)"
   ]
  },
  {
   "cell_type": "code",
   "execution_count": 143,
   "id": "3e564d8e-2f7a-4bed-bab6-343e753e1850",
   "metadata": {},
   "outputs": [
    {
     "data": {
      "text/html": [
       "<div>\n",
       "<style scoped>\n",
       "    .dataframe tbody tr th:only-of-type {\n",
       "        vertical-align: middle;\n",
       "    }\n",
       "\n",
       "    .dataframe tbody tr th {\n",
       "        vertical-align: top;\n",
       "    }\n",
       "\n",
       "    .dataframe thead th {\n",
       "        text-align: right;\n",
       "    }\n",
       "</style>\n",
       "<table border=\"1\" class=\"dataframe\">\n",
       "  <thead>\n",
       "    <tr style=\"text-align: right;\">\n",
       "      <th></th>\n",
       "      <th>alcaldia_hechos</th>\n",
       "      <th>delito</th>\n",
       "    </tr>\n",
       "  </thead>\n",
       "  <tbody>\n",
       "    <tr>\n",
       "      <th>372</th>\n",
       "      <td>SAN MIGUEL TOTOLAPAN</td>\n",
       "      <td>1</td>\n",
       "    </tr>\n",
       "    <tr>\n",
       "      <th>373</th>\n",
       "      <td>SAN MIGUEL XOXTLA</td>\n",
       "      <td>1</td>\n",
       "    </tr>\n",
       "    <tr>\n",
       "      <th>375</th>\n",
       "      <td>SAN PABLO DEL MONTE</td>\n",
       "      <td>1</td>\n",
       "    </tr>\n",
       "    <tr>\n",
       "      <th>376</th>\n",
       "      <td>SAN PEDRO ATOYAC</td>\n",
       "      <td>1</td>\n",
       "    </tr>\n",
       "    <tr>\n",
       "      <th>0</th>\n",
       "      <td>ABALA</td>\n",
       "      <td>1</td>\n",
       "    </tr>\n",
       "  </tbody>\n",
       "</table>\n",
       "</div>"
      ],
      "text/plain": [
       "          alcaldia_hechos  delito\n",
       "372  SAN MIGUEL TOTOLAPAN       1\n",
       "373     SAN MIGUEL XOXTLA       1\n",
       "375   SAN PABLO DEL MONTE       1\n",
       "376      SAN PEDRO ATOYAC       1\n",
       "0                   ABALA       1"
      ]
     },
     "execution_count": 143,
     "metadata": {},
     "output_type": "execute_result"
    }
   ],
   "source": [
    "carpetas.groupby(['alcaldia_hechos'])['delito'].count().reset_index().sort_values('delito', \n",
    "                                                                                  ascending=False).tail(5)"
   ]
  },
  {
   "cell_type": "code",
   "execution_count": 144,
   "id": "8cd93ebc-7706-4b1d-87c0-2b25797c07a5",
   "metadata": {},
   "outputs": [
    {
     "data": {
      "text/plain": [
       "544"
      ]
     },
     "execution_count": 144,
     "metadata": {},
     "output_type": "execute_result"
    }
   ],
   "source": [
    "carpetas.alcaldia_hechos.nunique()"
   ]
  },
  {
   "cell_type": "code",
   "execution_count": 151,
   "id": "459d1078-8d8f-4db9-ae96-3d650c34bc36",
   "metadata": {},
   "outputs": [],
   "source": [
    "cdmx_alc = list(carpetas.groupby(['alcaldia_hechos'])['delito'].count().reset_index().sort_values('delito', \n",
    "                                                                                  ascending=False).head(16)['alcaldia_hechos'])"
   ]
  },
  {
   "cell_type": "code",
   "execution_count": 154,
   "id": "c0235c18-8b2a-488b-a7a3-d189d081e193",
   "metadata": {},
   "outputs": [
    {
     "data": {
      "text/html": [
       "<div>\n",
       "<style scoped>\n",
       "    .dataframe tbody tr th:only-of-type {\n",
       "        vertical-align: middle;\n",
       "    }\n",
       "\n",
       "    .dataframe tbody tr th {\n",
       "        vertical-align: top;\n",
       "    }\n",
       "\n",
       "    .dataframe thead th {\n",
       "        text-align: right;\n",
       "    }\n",
       "</style>\n",
       "<table border=\"1\" class=\"dataframe\">\n",
       "  <thead>\n",
       "    <tr style=\"text-align: right;\">\n",
       "      <th></th>\n",
       "      <th>alcaldia_hechos</th>\n",
       "      <th>delito</th>\n",
       "    </tr>\n",
       "  </thead>\n",
       "  <tbody>\n",
       "    <tr>\n",
       "      <th>15</th>\n",
       "      <td>XOCHIMILCO</td>\n",
       "      <td>37878</td>\n",
       "    </tr>\n",
       "    <tr>\n",
       "      <th>12</th>\n",
       "      <td>TLAHUAC</td>\n",
       "      <td>29437</td>\n",
       "    </tr>\n",
       "    <tr>\n",
       "      <th>9</th>\n",
       "      <td>LA MAGDALENA CONTRERAS</td>\n",
       "      <td>19719</td>\n",
       "    </tr>\n",
       "    <tr>\n",
       "      <th>4</th>\n",
       "      <td>CUAJIMALPA DE MORELOS</td>\n",
       "      <td>17813</td>\n",
       "    </tr>\n",
       "    <tr>\n",
       "      <th>11</th>\n",
       "      <td>MILPA ALTA</td>\n",
       "      <td>8533</td>\n",
       "    </tr>\n",
       "  </tbody>\n",
       "</table>\n",
       "</div>"
      ],
      "text/plain": [
       "           alcaldia_hechos  delito\n",
       "15              XOCHIMILCO   37878\n",
       "12                 TLAHUAC   29437\n",
       "9   LA MAGDALENA CONTRERAS   19719\n",
       "4    CUAJIMALPA DE MORELOS   17813\n",
       "11              MILPA ALTA    8533"
      ]
     },
     "execution_count": 154,
     "metadata": {},
     "output_type": "execute_result"
    }
   ],
   "source": [
    "carpetas[carpetas['alcaldia_hechos'].isin(cdmx_alc)].groupby(['alcaldia_hechos'])['delito'].count().reset_index().sort_values('delito', \n",
    "                                                                                  ascending=False).tail(5)"
   ]
  },
  {
   "cell_type": "markdown",
   "id": "66c96f2e-2a31-41f1-9a5b-c5bb66c379a0",
   "metadata": {},
   "source": [
    "Se tiene que hay 544 alcaldías incluidas y esto incluye las de otros estados diferentes a la CDMX. La alcaldía con mayor número de delitos registrados es *CUAUHTEMOC* y la que tiene menos es *MILPA ALTA* para la CDMX. Claro que hay alcaldías con solo 1 delito registrado. Parece que la desidad de población es un factor importante para el aumento en el registro de los delitos y otro factor puede ser la existencia de ministerios públicos en los cuáles hacer la denuncia."
   ]
  },
  {
   "cell_type": "markdown",
   "id": "bc4ec822-d37d-4f32-aa30-53933e9c6f08",
   "metadata": {},
   "source": [
    "#### Dentro de cada alcaldía, cuáles son las tres colonias con más delitos"
   ]
  },
  {
   "cell_type": "code",
   "execution_count": 176,
   "id": "24ba933e-e7ab-4a92-9303-f344f5ceb4db",
   "metadata": {},
   "outputs": [
    {
     "data": {
      "text/plain": [
       "49227"
      ]
     },
     "execution_count": 176,
     "metadata": {},
     "output_type": "execute_result"
    }
   ],
   "source": [
    "carpetas.colonia_hechos.isnull().sum()"
   ]
  },
  {
   "cell_type": "code",
   "execution_count": 182,
   "id": "c5118b01-b0aa-45fd-9d97-17f208b4e160",
   "metadata": {},
   "outputs": [
    {
     "data": {
      "text/plain": [
       "1661"
      ]
     },
     "execution_count": 182,
     "metadata": {},
     "output_type": "execute_result"
    }
   ],
   "source": [
    "carpetas.colonia_hechos.nunique()"
   ]
  },
  {
   "cell_type": "code",
   "execution_count": 177,
   "id": "19d5009a-d667-4b9c-a60d-c16fb1ad750b",
   "metadata": {},
   "outputs": [
    {
     "data": {
      "text/plain": [
       "3308"
      ]
     },
     "execution_count": 177,
     "metadata": {},
     "output_type": "execute_result"
    }
   ],
   "source": [
    "carpetas.alcaldia_hechos.isnull().sum()"
   ]
  },
  {
   "cell_type": "code",
   "execution_count": 183,
   "id": "adcaac47-c23c-4950-b4c0-8eaf996b17a8",
   "metadata": {},
   "outputs": [
    {
     "data": {
      "text/plain": [
       "544"
      ]
     },
     "execution_count": 183,
     "metadata": {},
     "output_type": "execute_result"
    }
   ],
   "source": [
    "carpetas.alcaldia_hechos.nunique()"
   ]
  },
  {
   "cell_type": "code",
   "execution_count": 200,
   "id": "46f3a45f-6b9b-4638-a13f-9aca9a4a3f1f",
   "metadata": {},
   "outputs": [
    {
     "data": {
      "text/plain": [
       "(1860, 3)"
      ]
     },
     "execution_count": 200,
     "metadata": {},
     "output_type": "execute_result"
    }
   ],
   "source": [
    "carpetas.groupby(['alcaldia_hechos','colonia_hechos'])['delito'].count().reset_index().shape"
   ]
  },
  {
   "cell_type": "code",
   "execution_count": 188,
   "id": "e10d43f3-c566-4d59-afb3-04a07af77eaf",
   "metadata": {},
   "outputs": [],
   "source": [
    "# Esto se puede obtener con la estrategia anterior:\n",
    "\n",
    "df_colonias = carpetas.groupby(['alcaldia_hechos', \n",
    "                                'colonia_hechos'])['delito'].count().reset_index().sort_values('delito', \n",
    "                                                                                               ascending=False)"
   ]
  },
  {
   "cell_type": "code",
   "execution_count": 189,
   "id": "5f20f403-a416-4a00-a2d6-d73171a2faa4",
   "metadata": {},
   "outputs": [],
   "source": [
    "df_colonias = df_colonias.sort_values(['alcaldia_hechos','delito'], ascending=False).reset_index(drop=True)"
   ]
  },
  {
   "cell_type": "code",
   "execution_count": null,
   "id": "8258409a-77ce-48e0-a54c-27182b1ce53e",
   "metadata": {},
   "outputs": [],
   "source": []
  },
  {
   "cell_type": "code",
   "execution_count": 191,
   "id": "f762cb9d-18d6-4ef5-8b56-1f7dd51b11cb",
   "metadata": {},
   "outputs": [
    {
     "data": {
      "text/plain": [
       "(1860, 3)"
      ]
     },
     "execution_count": 191,
     "metadata": {},
     "output_type": "execute_result"
    }
   ],
   "source": [
    "df_colonias.shape"
   ]
  },
  {
   "cell_type": "code",
   "execution_count": 201,
   "id": "de6b27ee-516b-4527-b3b8-4551552a29d6",
   "metadata": {},
   "outputs": [
    {
     "data": {
      "text/html": [
       "<div>\n",
       "<style scoped>\n",
       "    .dataframe tbody tr th:only-of-type {\n",
       "        vertical-align: middle;\n",
       "    }\n",
       "\n",
       "    .dataframe tbody tr th {\n",
       "        vertical-align: top;\n",
       "    }\n",
       "\n",
       "    .dataframe thead th {\n",
       "        text-align: right;\n",
       "    }\n",
       "</style>\n",
       "<table border=\"1\" class=\"dataframe\">\n",
       "  <thead>\n",
       "    <tr style=\"text-align: right;\">\n",
       "      <th></th>\n",
       "      <th>alcaldia_hechos</th>\n",
       "      <th>colonia_hechos</th>\n",
       "      <th>delito</th>\n",
       "    </tr>\n",
       "  </thead>\n",
       "  <tbody>\n",
       "    <tr>\n",
       "      <th>0</th>\n",
       "      <td>ZITACUARO</td>\n",
       "      <td>ZITACUARO CENTRO</td>\n",
       "      <td>1</td>\n",
       "    </tr>\n",
       "    <tr>\n",
       "      <th>1</th>\n",
       "      <td>XOCHIMILCO</td>\n",
       "      <td>SAN GREGORIO ATLAPULCO</td>\n",
       "      <td>2435</td>\n",
       "    </tr>\n",
       "    <tr>\n",
       "      <th>140</th>\n",
       "      <td>VENUSTIANO CARRANZA</td>\n",
       "      <td>JARDÍN BALBUENA</td>\n",
       "      <td>6520</td>\n",
       "    </tr>\n",
       "    <tr>\n",
       "      <th>228</th>\n",
       "      <td>TLAXCALA</td>\n",
       "      <td>TLAXCALA CENTRO</td>\n",
       "      <td>1</td>\n",
       "    </tr>\n",
       "    <tr>\n",
       "      <th>229</th>\n",
       "      <td>TLALPAN</td>\n",
       "      <td>SAN ANDRÉS TOTOLTEPEC</td>\n",
       "      <td>4776</td>\n",
       "    </tr>\n",
       "    <tr>\n",
       "      <th>448</th>\n",
       "      <td>TLAHUAC</td>\n",
       "      <td>DEL MAR</td>\n",
       "      <td>1765</td>\n",
       "    </tr>\n",
       "    <tr>\n",
       "      <th>539</th>\n",
       "      <td>SAN JUAN GUICHICOVI</td>\n",
       "      <td>RAMOS MILLAN - EJIDO</td>\n",
       "      <td>1</td>\n",
       "    </tr>\n",
       "    <tr>\n",
       "      <th>540</th>\n",
       "      <td>OAXACA DE JUAREZ</td>\n",
       "      <td>OAXACA CENTRO</td>\n",
       "      <td>1</td>\n",
       "    </tr>\n",
       "    <tr>\n",
       "      <th>541</th>\n",
       "      <td>NEZAHUALCOYOTL</td>\n",
       "      <td>VICENTE VILLADA</td>\n",
       "      <td>1</td>\n",
       "    </tr>\n",
       "    <tr>\n",
       "      <th>546</th>\n",
       "      <td>NAUCALPAN DE JUAREZ</td>\n",
       "      <td>SAN BARTOLO NAUCALPAN (NAUCALPAN CENTRO) - PUEBLO</td>\n",
       "      <td>2</td>\n",
       "    </tr>\n",
       "    <tr>\n",
       "      <th>549</th>\n",
       "      <td>MILPA ALTA</td>\n",
       "      <td>CRUZTITLA (SAN ANTONIO TECOMITL)</td>\n",
       "      <td>567</td>\n",
       "    </tr>\n",
       "    <tr>\n",
       "      <th>594</th>\n",
       "      <td>MIGUEL HIDALGO</td>\n",
       "      <td>POLANCO</td>\n",
       "      <td>10107</td>\n",
       "    </tr>\n",
       "    <tr>\n",
       "      <th>678</th>\n",
       "      <td>LA PAZ</td>\n",
       "      <td>VALLE DE LOS REYES 1A SECCION</td>\n",
       "      <td>1</td>\n",
       "    </tr>\n",
       "    <tr>\n",
       "      <th>679</th>\n",
       "      <td>LA MAGDALENA CONTRERAS</td>\n",
       "      <td>SAN JERÓNIMO LÍDICE</td>\n",
       "      <td>2163</td>\n",
       "    </tr>\n",
       "    <tr>\n",
       "      <th>729</th>\n",
       "      <td>IZTAPALAPA</td>\n",
       "      <td>CENTRAL DE ABASTO</td>\n",
       "      <td>8083</td>\n",
       "    </tr>\n",
       "    <tr>\n",
       "      <th>968</th>\n",
       "      <td>IZTACALCO</td>\n",
       "      <td>AGRÍCOLA ORIENTAL</td>\n",
       "      <td>9821</td>\n",
       "    </tr>\n",
       "    <tr>\n",
       "      <th>1013</th>\n",
       "      <td>HERMOSILLO</td>\n",
       "      <td>EL SAUCITO - CIUDAD</td>\n",
       "      <td>1</td>\n",
       "    </tr>\n",
       "    <tr>\n",
       "      <th>1014</th>\n",
       "      <td>GUSTAVO A MADERO</td>\n",
       "      <td>LINDAVISTA</td>\n",
       "      <td>5246</td>\n",
       "    </tr>\n",
       "    <tr>\n",
       "      <th>1213</th>\n",
       "      <td>ECATEPEC DE MORELOS</td>\n",
       "      <td>CIUDAD AZTECA ORIENTE - FRACCIONAMIENTO</td>\n",
       "      <td>1</td>\n",
       "    </tr>\n",
       "    <tr>\n",
       "      <th>1214</th>\n",
       "      <td>CUERNAVACA</td>\n",
       "      <td>CUERNAVACA CENTRO</td>\n",
       "      <td>1</td>\n",
       "    </tr>\n",
       "    <tr>\n",
       "      <th>1215</th>\n",
       "      <td>CUAUHTEMOC</td>\n",
       "      <td>CENTRO</td>\n",
       "      <td>39655</td>\n",
       "    </tr>\n",
       "    <tr>\n",
       "      <th>1255</th>\n",
       "      <td>CUAJIMALPA DE MORELOS</td>\n",
       "      <td>CUAJIMALPA</td>\n",
       "      <td>2653</td>\n",
       "    </tr>\n",
       "    <tr>\n",
       "      <th>1301</th>\n",
       "      <td>COYOACAN</td>\n",
       "      <td>PEDREGAL DE SANTO DOMINGO</td>\n",
       "      <td>7130</td>\n",
       "    </tr>\n",
       "    <tr>\n",
       "      <th>1437</th>\n",
       "      <td>BENITO JUAREZ</td>\n",
       "      <td>DEL VALLE CENTRO</td>\n",
       "      <td>17623</td>\n",
       "    </tr>\n",
       "    <tr>\n",
       "      <th>1493</th>\n",
       "      <td>AZCAPOTZALCO</td>\n",
       "      <td>EL ROSARIO</td>\n",
       "      <td>4162</td>\n",
       "    </tr>\n",
       "    <tr>\n",
       "      <th>1590</th>\n",
       "      <td>ATIZAPAN DE ZARAGOZA</td>\n",
       "      <td>LOMAS DE BELLAVISTA</td>\n",
       "      <td>1</td>\n",
       "    </tr>\n",
       "    <tr>\n",
       "      <th>1591</th>\n",
       "      <td>ALVARO OBREGON</td>\n",
       "      <td>JARDINES DEL PEDREGAL</td>\n",
       "      <td>3676</td>\n",
       "    </tr>\n",
       "  </tbody>\n",
       "</table>\n",
       "</div>"
      ],
      "text/plain": [
       "             alcaldia_hechos  \\\n",
       "0                  ZITACUARO   \n",
       "1                 XOCHIMILCO   \n",
       "140      VENUSTIANO CARRANZA   \n",
       "228                 TLAXCALA   \n",
       "229                  TLALPAN   \n",
       "448                  TLAHUAC   \n",
       "539      SAN JUAN GUICHICOVI   \n",
       "540         OAXACA DE JUAREZ   \n",
       "541           NEZAHUALCOYOTL   \n",
       "546      NAUCALPAN DE JUAREZ   \n",
       "549               MILPA ALTA   \n",
       "594           MIGUEL HIDALGO   \n",
       "678                   LA PAZ   \n",
       "679   LA MAGDALENA CONTRERAS   \n",
       "729               IZTAPALAPA   \n",
       "968                IZTACALCO   \n",
       "1013              HERMOSILLO   \n",
       "1014        GUSTAVO A MADERO   \n",
       "1213     ECATEPEC DE MORELOS   \n",
       "1214              CUERNAVACA   \n",
       "1215              CUAUHTEMOC   \n",
       "1255   CUAJIMALPA DE MORELOS   \n",
       "1301                COYOACAN   \n",
       "1437           BENITO JUAREZ   \n",
       "1493            AZCAPOTZALCO   \n",
       "1590    ATIZAPAN DE ZARAGOZA   \n",
       "1591          ALVARO OBREGON   \n",
       "\n",
       "                                         colonia_hechos  delito  \n",
       "0                                      ZITACUARO CENTRO       1  \n",
       "1                                SAN GREGORIO ATLAPULCO    2435  \n",
       "140                                     JARDÍN BALBUENA    6520  \n",
       "228                                     TLAXCALA CENTRO       1  \n",
       "229                               SAN ANDRÉS TOTOLTEPEC    4776  \n",
       "448                                             DEL MAR    1765  \n",
       "539                                RAMOS MILLAN - EJIDO       1  \n",
       "540                                       OAXACA CENTRO       1  \n",
       "541                                     VICENTE VILLADA       1  \n",
       "546   SAN BARTOLO NAUCALPAN (NAUCALPAN CENTRO) - PUEBLO       2  \n",
       "549                    CRUZTITLA (SAN ANTONIO TECOMITL)     567  \n",
       "594                                             POLANCO   10107  \n",
       "678                       VALLE DE LOS REYES 1A SECCION       1  \n",
       "679                                 SAN JERÓNIMO LÍDICE    2163  \n",
       "729                                   CENTRAL DE ABASTO    8083  \n",
       "968                                   AGRÍCOLA ORIENTAL    9821  \n",
       "1013                                EL SAUCITO - CIUDAD       1  \n",
       "1014                                         LINDAVISTA    5246  \n",
       "1213            CIUDAD AZTECA ORIENTE - FRACCIONAMIENTO       1  \n",
       "1214                                  CUERNAVACA CENTRO       1  \n",
       "1215                                             CENTRO   39655  \n",
       "1255                                         CUAJIMALPA    2653  \n",
       "1301                          PEDREGAL DE SANTO DOMINGO    7130  \n",
       "1437                                   DEL VALLE CENTRO   17623  \n",
       "1493                                         EL ROSARIO    4162  \n",
       "1590                                LOMAS DE BELLAVISTA       1  \n",
       "1591                              JARDINES DEL PEDREGAL    3676  "
      ]
     },
     "execution_count": 201,
     "metadata": {},
     "output_type": "execute_result"
    }
   ],
   "source": [
    "df_colonias.groupby(['alcaldia_hechos']).head(1)"
   ]
  },
  {
   "cell_type": "code",
   "execution_count": null,
   "id": "65742057-0dfc-432e-82d7-93bcb8dddd74",
   "metadata": {},
   "outputs": [],
   "source": []
  },
  {
   "cell_type": "code",
   "execution_count": null,
   "id": "820f3bb8-6105-4384-b84b-a6e7c5791a35",
   "metadata": {},
   "outputs": [],
   "source": []
  }
 ],
 "metadata": {
  "kernelspec": {
   "display_name": "Python 3",
   "language": "python",
   "name": "python3"
  },
  "language_info": {
   "codemirror_mode": {
    "name": "ipython",
    "version": 3
   },
   "file_extension": ".py",
   "mimetype": "text/x-python",
   "name": "python",
   "nbconvert_exporter": "python",
   "pygments_lexer": "ipython3",
   "version": "3.9.5"
  }
 },
 "nbformat": 4,
 "nbformat_minor": 5
}
