{
 "cells": [
  {
   "cell_type": "markdown",
   "id": "31db66f5-0885-4c25-8ccb-031d6978bcbf",
   "metadata": {},
   "source": [
    "# DATOS ABIERTOS DE LA CIUDAD DE MÉXICO"
   ]
  },
  {
   "cell_type": "code",
   "execution_count": null,
   "id": "f884a5d1-22cc-4f92-abb5-5e86fd671c7d",
   "metadata": {},
   "outputs": [],
   "source": []
  }
 ],
 "metadata": {
  "kernelspec": {
   "display_name": "Python 3",
   "language": "python",
   "name": "python3"
  },
  "language_info": {
   "codemirror_mode": {
    "name": "ipython",
    "version": 3
   },
   "file_extension": ".py",
   "mimetype": "text/x-python",
   "name": "python",
   "nbconvert_exporter": "python",
   "pygments_lexer": "ipython3",
   "version": "3.9.5"
  }
 },
 "nbformat": 4,
 "nbformat_minor": 5
}
