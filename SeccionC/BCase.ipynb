{
 "cells": [
  {
   "cell_type": "markdown",
   "id": "77b89302-cae0-4cab-8cc3-36e94bf4e7ea",
   "metadata": {},
   "source": [
    "# Caso Práctico"
   ]
  },
  {
   "cell_type": "code",
   "execution_count": 1,
   "id": "a9fbe652-ef74-4427-a9f9-0ee2971d3edd",
   "metadata": {},
   "outputs": [],
   "source": [
    "import pandas as pd\n",
    "import numpy as np\n",
    "import seaborn as sns\n",
    "import matplotlib.pyplot as plt\n",
    "\n",
    "## For plotting\n",
    "import plotly.express as px\n",
    "import plotly.graph_objects as go\n",
    "import plotly.tools"
   ]
  },
  {
   "cell_type": "code",
   "execution_count": 97,
   "id": "0f0d6224-e2f7-4429-85e1-a1f5a705402b",
   "metadata": {},
   "outputs": [],
   "source": [
    "import seaborn as sns\n",
    "sns.set(rc={\"figure.figsize\":(9, 7)})"
   ]
  },
  {
   "cell_type": "code",
   "execution_count": 2,
   "id": "9349843d-2456-4fda-ad3d-1e7b65f5b0c7",
   "metadata": {},
   "outputs": [],
   "source": [
    "pd.set_option('display.max_rows', None)\n",
    "pd.set_option('display.max_columns', None)"
   ]
  },
  {
   "cell_type": "code",
   "execution_count": 5,
   "id": "2275fe26-147d-462a-add2-87702b91d912",
   "metadata": {},
   "outputs": [],
   "source": [
    "bops_bm = pd.read_csv('bops_bm.csv')\n",
    "bops_ol = pd.read_csv('bops_online.csv')"
   ]
  },
  {
   "cell_type": "code",
   "execution_count": 10,
   "id": "510ad0b6-d683-478a-92a8-4904a33708c6",
   "metadata": {},
   "outputs": [],
   "source": [
    "dicc = pd.ExcelFile('diccionarios.xlsx')"
   ]
  },
  {
   "cell_type": "code",
   "execution_count": 12,
   "id": "e5016ff0-e2b2-4647-9d1a-925c4d7a2f4e",
   "metadata": {},
   "outputs": [
    {
     "data": {
      "text/plain": [
       "((4538, 11), (10710, 17))"
      ]
     },
     "execution_count": 12,
     "metadata": {},
     "output_type": "execute_result"
    }
   ],
   "source": [
    "bops_bm.shape, bops_ol.shape"
   ]
  },
  {
   "cell_type": "code",
   "execution_count": 30,
   "id": "d678a0b5-63a1-4683-bea4-3e431cfd2767",
   "metadata": {},
   "outputs": [
    {
     "data": {
      "text/html": [
       "<div>\n",
       "<style scoped>\n",
       "    .dataframe tbody tr th:only-of-type {\n",
       "        vertical-align: middle;\n",
       "    }\n",
       "\n",
       "    .dataframe tbody tr th {\n",
       "        vertical-align: top;\n",
       "    }\n",
       "\n",
       "    .dataframe thead th {\n",
       "        text-align: right;\n",
       "    }\n",
       "</style>\n",
       "<table border=\"1\" class=\"dataframe\">\n",
       "  <thead>\n",
       "    <tr style=\"text-align: right;\">\n",
       "      <th></th>\n",
       "      <th>id (store)</th>\n",
       "      <th>year</th>\n",
       "      <th>month</th>\n",
       "      <th>week</th>\n",
       "      <th>usa</th>\n",
       "      <th>after</th>\n",
       "      <th>sales</th>\n",
       "    </tr>\n",
       "  </thead>\n",
       "  <tbody>\n",
       "    <tr>\n",
       "      <th>0</th>\n",
       "      <td>1.0</td>\n",
       "      <td>2011.0</td>\n",
       "      <td>4.0</td>\n",
       "      <td>16.0</td>\n",
       "      <td>0.0</td>\n",
       "      <td>0.0</td>\n",
       "      <td>118,691</td>\n",
       "    </tr>\n",
       "    <tr>\n",
       "      <th>1</th>\n",
       "      <td>1.0</td>\n",
       "      <td>2011.0</td>\n",
       "      <td>4.0</td>\n",
       "      <td>17.0</td>\n",
       "      <td>0.0</td>\n",
       "      <td>0.0</td>\n",
       "      <td>113,804</td>\n",
       "    </tr>\n",
       "    <tr>\n",
       "      <th>2</th>\n",
       "      <td>1.0</td>\n",
       "      <td>2011.0</td>\n",
       "      <td>4.0</td>\n",
       "      <td>18.0</td>\n",
       "      <td>0.0</td>\n",
       "      <td>0.0</td>\n",
       "      <td>172,104</td>\n",
       "    </tr>\n",
       "    <tr>\n",
       "      <th>3</th>\n",
       "      <td>1.0</td>\n",
       "      <td>2011.0</td>\n",
       "      <td>5.0</td>\n",
       "      <td>19.0</td>\n",
       "      <td>0.0</td>\n",
       "      <td>0.0</td>\n",
       "      <td>105,591</td>\n",
       "    </tr>\n",
       "    <tr>\n",
       "      <th>4</th>\n",
       "      <td>1.0</td>\n",
       "      <td>2011.0</td>\n",
       "      <td>5.0</td>\n",
       "      <td>20.0</td>\n",
       "      <td>0.0</td>\n",
       "      <td>0.0</td>\n",
       "      <td>94,884</td>\n",
       "    </tr>\n",
       "  </tbody>\n",
       "</table>\n",
       "</div>"
      ],
      "text/plain": [
       "   id (store)    year  month  week  usa  after   sales \n",
       "0         1.0  2011.0    4.0  16.0  0.0    0.0  118,691\n",
       "1         1.0  2011.0    4.0  17.0  0.0    0.0  113,804\n",
       "2         1.0  2011.0    4.0  18.0  0.0    0.0  172,104\n",
       "3         1.0  2011.0    5.0  19.0  0.0    0.0  105,591\n",
       "4         1.0  2011.0    5.0  20.0  0.0    0.0   94,884"
      ]
     },
     "execution_count": 30,
     "metadata": {},
     "output_type": "execute_result"
    }
   ],
   "source": [
    "bops_bm.drop(columns = ['Unnamed: 7' ,'Unnamed: 8','Unnamed: 9','Unnamed: 10'], inplace=True)\n",
    "bops_bm.head()"
   ]
  },
  {
   "cell_type": "code",
   "execution_count": 31,
   "id": "0308212b-cb7e-4357-b7e2-84af51a27a0f",
   "metadata": {},
   "outputs": [
    {
     "data": {
      "text/html": [
       "<div>\n",
       "<style scoped>\n",
       "    .dataframe tbody tr th:only-of-type {\n",
       "        vertical-align: middle;\n",
       "    }\n",
       "\n",
       "    .dataframe tbody tr th {\n",
       "        vertical-align: top;\n",
       "    }\n",
       "\n",
       "    .dataframe thead th {\n",
       "        text-align: right;\n",
       "    }\n",
       "</style>\n",
       "<table border=\"1\" class=\"dataframe\">\n",
       "  <thead>\n",
       "    <tr style=\"text-align: right;\">\n",
       "      <th></th>\n",
       "      <th>id (DMA)</th>\n",
       "      <th>year</th>\n",
       "      <th>month</th>\n",
       "      <th>week</th>\n",
       "      <th>after</th>\n",
       "      <th>close</th>\n",
       "      <th>sales</th>\n",
       "    </tr>\n",
       "  </thead>\n",
       "  <tbody>\n",
       "    <tr>\n",
       "      <th>0</th>\n",
       "      <td>1</td>\n",
       "      <td>2011</td>\n",
       "      <td>4</td>\n",
       "      <td>17</td>\n",
       "      <td>0</td>\n",
       "      <td>1</td>\n",
       "      <td>18,564</td>\n",
       "    </tr>\n",
       "    <tr>\n",
       "      <th>1</th>\n",
       "      <td>1</td>\n",
       "      <td>2011</td>\n",
       "      <td>4</td>\n",
       "      <td>18</td>\n",
       "      <td>0</td>\n",
       "      <td>1</td>\n",
       "      <td>30,883</td>\n",
       "    </tr>\n",
       "    <tr>\n",
       "      <th>2</th>\n",
       "      <td>1</td>\n",
       "      <td>2011</td>\n",
       "      <td>5</td>\n",
       "      <td>19</td>\n",
       "      <td>0</td>\n",
       "      <td>1</td>\n",
       "      <td>37,425</td>\n",
       "    </tr>\n",
       "    <tr>\n",
       "      <th>3</th>\n",
       "      <td>1</td>\n",
       "      <td>2011</td>\n",
       "      <td>5</td>\n",
       "      <td>20</td>\n",
       "      <td>0</td>\n",
       "      <td>1</td>\n",
       "      <td>32,563</td>\n",
       "    </tr>\n",
       "    <tr>\n",
       "      <th>4</th>\n",
       "      <td>1</td>\n",
       "      <td>2011</td>\n",
       "      <td>5</td>\n",
       "      <td>21</td>\n",
       "      <td>0</td>\n",
       "      <td>1</td>\n",
       "      <td>35,773</td>\n",
       "    </tr>\n",
       "  </tbody>\n",
       "</table>\n",
       "</div>"
      ],
      "text/plain": [
       "   id (DMA)  year  month  week  after  close  sales \n",
       "0         1  2011      4    17      0      1  18,564\n",
       "1         1  2011      4    18      0      1  30,883\n",
       "2         1  2011      5    19      0      1  37,425\n",
       "3         1  2011      5    20      0      1  32,563\n",
       "4         1  2011      5    21      0      1  35,773"
      ]
     },
     "execution_count": 31,
     "metadata": {},
     "output_type": "execute_result"
    }
   ],
   "source": [
    "bops_ol.drop(columns = ['Unnamed: 7' ,'Unnamed: 8','Unnamed: 9',\n",
    "                        'Unnamed: 10','Unnamed: 11','Unnamed: 12',\n",
    "                        'Unnamed: 13', 'Unnamed: 14','Unnamed: 15','Unnamed: 16'], inplace=True)\n",
    "bops_ol.head()"
   ]
  },
  {
   "cell_type": "code",
   "execution_count": 15,
   "id": "b27e219e-d17a-4eb6-bb42-0c0516f3ff69",
   "metadata": {},
   "outputs": [
    {
     "data": {
      "text/plain": [
       "['Online Sales', 'Online Data Dictionary', 'B&M Sales', 'B&M Data Dictionary']"
      ]
     },
     "execution_count": 15,
     "metadata": {},
     "output_type": "execute_result"
    }
   ],
   "source": [
    "dicc.sheet_names"
   ]
  },
  {
   "cell_type": "code",
   "execution_count": 21,
   "id": "6d669bc0-fa9c-4524-8d21-a0f8b3ba65e1",
   "metadata": {},
   "outputs": [
    {
     "name": "stderr",
     "output_type": "stream",
     "text": [
      "/Users/anieto/miniconda3/envs/zsessions/lib/python3.9/site-packages/openpyxl/worksheet/_reader.py:312: UserWarning:\n",
      "\n",
      "Unknown extension is not supported and will be removed\n",
      "\n"
     ]
    },
    {
     "data": {
      "text/html": [
       "<div>\n",
       "<style scoped>\n",
       "    .dataframe tbody tr th:only-of-type {\n",
       "        vertical-align: middle;\n",
       "    }\n",
       "\n",
       "    .dataframe tbody tr th {\n",
       "        vertical-align: top;\n",
       "    }\n",
       "\n",
       "    .dataframe thead th {\n",
       "        text-align: right;\n",
       "    }\n",
       "</style>\n",
       "<table border=\"1\" class=\"dataframe\">\n",
       "  <thead>\n",
       "    <tr style=\"text-align: right;\">\n",
       "      <th></th>\n",
       "      <th>id (DMA)</th>\n",
       "      <th>Designated Market Area (DMA) identification code</th>\n",
       "    </tr>\n",
       "  </thead>\n",
       "  <tbody>\n",
       "    <tr>\n",
       "      <th>0</th>\n",
       "      <td>year</td>\n",
       "      <td>Year</td>\n",
       "    </tr>\n",
       "    <tr>\n",
       "      <th>1</th>\n",
       "      <td>month</td>\n",
       "      <td>Month number (January =1)</td>\n",
       "    </tr>\n",
       "    <tr>\n",
       "      <th>2</th>\n",
       "      <td>week</td>\n",
       "      <td>Week number (first week of the year = 1)</td>\n",
       "    </tr>\n",
       "    <tr>\n",
       "      <th>3</th>\n",
       "      <td>after</td>\n",
       "      <td>Equal to 1 if week is after introduction of BO...</td>\n",
       "    </tr>\n",
       "    <tr>\n",
       "      <th>4</th>\n",
       "      <td>close</td>\n",
       "      <td>Equal to 1 if week is DMA is within 50 miles o...</td>\n",
       "    </tr>\n",
       "    <tr>\n",
       "      <th>5</th>\n",
       "      <td>sales</td>\n",
       "      <td>Total online sales for the week for the DMA in...</td>\n",
       "    </tr>\n",
       "  </tbody>\n",
       "</table>\n",
       "</div>"
      ],
      "text/plain": [
       "  id (DMA)   Designated Market Area (DMA) identification code\n",
       "0     year                                               Year\n",
       "1    month                          Month number (January =1)\n",
       "2     week           Week number (first week of the year = 1)\n",
       "3    after  Equal to 1 if week is after introduction of BO...\n",
       "4    close  Equal to 1 if week is DMA is within 50 miles o...\n",
       "5    sales  Total online sales for the week for the DMA in..."
      ]
     },
     "execution_count": 21,
     "metadata": {},
     "output_type": "execute_result"
    }
   ],
   "source": [
    "ol_dd = dicc.parse('Online Data Dictionary')\n",
    "ol_dd"
   ]
  },
  {
   "cell_type": "code",
   "execution_count": 27,
   "id": "99d512e8-ad9a-4096-a83d-a96c6f658ec5",
   "metadata": {},
   "outputs": [
    {
     "name": "stdout",
     "output_type": "stream",
     "text": [
      "Equal to 1 if week is after introduction of BOPS; 0 otherwise\n",
      "Equal to 1 if week is DMA is within 50 miles of a store; 0 otherwise\n"
     ]
    }
   ],
   "source": [
    "print(ol_dd.iloc[3,1])\n",
    "print(ol_dd.iloc[4,1])"
   ]
  },
  {
   "cell_type": "code",
   "execution_count": 20,
   "id": "40290771-a22d-4396-a581-9d9bf2b4b754",
   "metadata": {},
   "outputs": [
    {
     "name": "stderr",
     "output_type": "stream",
     "text": [
      "/Users/anieto/miniconda3/envs/zsessions/lib/python3.9/site-packages/openpyxl/worksheet/_reader.py:312: UserWarning:\n",
      "\n",
      "Unknown extension is not supported and will be removed\n",
      "\n"
     ]
    },
    {
     "data": {
      "text/html": [
       "<div>\n",
       "<style scoped>\n",
       "    .dataframe tbody tr th:only-of-type {\n",
       "        vertical-align: middle;\n",
       "    }\n",
       "\n",
       "    .dataframe tbody tr th {\n",
       "        vertical-align: top;\n",
       "    }\n",
       "\n",
       "    .dataframe thead th {\n",
       "        text-align: right;\n",
       "    }\n",
       "</style>\n",
       "<table border=\"1\" class=\"dataframe\">\n",
       "  <thead>\n",
       "    <tr style=\"text-align: right;\">\n",
       "      <th></th>\n",
       "      <th>id (store)</th>\n",
       "      <th>Store identification code</th>\n",
       "    </tr>\n",
       "  </thead>\n",
       "  <tbody>\n",
       "    <tr>\n",
       "      <th>0</th>\n",
       "      <td>year</td>\n",
       "      <td>Year</td>\n",
       "    </tr>\n",
       "    <tr>\n",
       "      <th>1</th>\n",
       "      <td>month</td>\n",
       "      <td>Month (January = 1)</td>\n",
       "    </tr>\n",
       "    <tr>\n",
       "      <th>2</th>\n",
       "      <td>week</td>\n",
       "      <td>Week (first week of the year = 1)</td>\n",
       "    </tr>\n",
       "    <tr>\n",
       "      <th>3</th>\n",
       "      <td>usa</td>\n",
       "      <td>Equal to 1 if store is in the USA; 0 if it is ...</td>\n",
       "    </tr>\n",
       "    <tr>\n",
       "      <th>4</th>\n",
       "      <td>after</td>\n",
       "      <td>Equal to 1 if week is after introduction of BO...</td>\n",
       "    </tr>\n",
       "    <tr>\n",
       "      <th>5</th>\n",
       "      <td>sales</td>\n",
       "      <td>Total B&amp;M sales for the week for the store</td>\n",
       "    </tr>\n",
       "  </tbody>\n",
       "</table>\n",
       "</div>"
      ],
      "text/plain": [
       "  id (store)                          Store identification code\n",
       "0       year                                               Year\n",
       "1      month                                Month (January = 1)\n",
       "2       week                  Week (first week of the year = 1)\n",
       "3        usa  Equal to 1 if store is in the USA; 0 if it is ...\n",
       "4      after  Equal to 1 if week is after introduction of BO...\n",
       "5      sales         Total B&M sales for the week for the store"
      ]
     },
     "execution_count": 20,
     "metadata": {},
     "output_type": "execute_result"
    }
   ],
   "source": [
    "bm_dd = dicc.parse('B&M Data Dictionary')\n",
    "bm_dd"
   ]
  },
  {
   "cell_type": "code",
   "execution_count": 28,
   "id": "ad72a7b0-681e-4898-b7ee-468b7f50689e",
   "metadata": {},
   "outputs": [
    {
     "name": "stdout",
     "output_type": "stream",
     "text": [
      "Equal to 1 if store is in the USA; 0 if it is a Canadian store\n",
      "Equal to 1 if week is after introduction of BOPS; 0 otherwise\n"
     ]
    }
   ],
   "source": [
    "print(bm_dd.iloc[3,1])\n",
    "print(bm_dd.iloc[4,1])"
   ]
  },
  {
   "cell_type": "markdown",
   "id": "453cbb3d-4eb7-4df6-848e-0b5e86b5d7b3",
   "metadata": {},
   "source": [
    "### Understand data"
   ]
  },
  {
   "cell_type": "code",
   "execution_count": 45,
   "id": "dd3a71a5-05eb-4a5b-bcc3-ce375d58da4e",
   "metadata": {},
   "outputs": [
    {
     "data": {
      "text/html": [
       "<div>\n",
       "<style scoped>\n",
       "    .dataframe tbody tr th:only-of-type {\n",
       "        vertical-align: middle;\n",
       "    }\n",
       "\n",
       "    .dataframe tbody tr th {\n",
       "        vertical-align: top;\n",
       "    }\n",
       "\n",
       "    .dataframe thead th {\n",
       "        text-align: right;\n",
       "    }\n",
       "</style>\n",
       "<table border=\"1\" class=\"dataframe\">\n",
       "  <thead>\n",
       "    <tr style=\"text-align: right;\">\n",
       "      <th></th>\n",
       "      <th>id (store)</th>\n",
       "      <th>year</th>\n",
       "      <th>month</th>\n",
       "      <th>week</th>\n",
       "      <th>usa</th>\n",
       "      <th>after</th>\n",
       "      <th>sales</th>\n",
       "    </tr>\n",
       "  </thead>\n",
       "  <tbody>\n",
       "    <tr>\n",
       "      <th>0</th>\n",
       "      <td>1.0</td>\n",
       "      <td>2011.0</td>\n",
       "      <td>4.0</td>\n",
       "      <td>16.0</td>\n",
       "      <td>0.0</td>\n",
       "      <td>0.0</td>\n",
       "      <td>118,691</td>\n",
       "    </tr>\n",
       "    <tr>\n",
       "      <th>1</th>\n",
       "      <td>1.0</td>\n",
       "      <td>2011.0</td>\n",
       "      <td>4.0</td>\n",
       "      <td>17.0</td>\n",
       "      <td>0.0</td>\n",
       "      <td>0.0</td>\n",
       "      <td>113,804</td>\n",
       "    </tr>\n",
       "  </tbody>\n",
       "</table>\n",
       "</div>"
      ],
      "text/plain": [
       "   id (store)    year  month  week  usa  after   sales \n",
       "0         1.0  2011.0    4.0  16.0  0.0    0.0  118,691\n",
       "1         1.0  2011.0    4.0  17.0  0.0    0.0  113,804"
      ]
     },
     "execution_count": 45,
     "metadata": {},
     "output_type": "execute_result"
    }
   ],
   "source": [
    "bops_bm.head(2)"
   ]
  },
  {
   "cell_type": "code",
   "execution_count": 46,
   "id": "284e273a-662a-4230-8956-df214dbb64b4",
   "metadata": {},
   "outputs": [
    {
     "data": {
      "text/plain": [
       "Index(['id (store)', 'year', 'month', 'week', 'usa', 'after', ' sales '], dtype='object')"
      ]
     },
     "execution_count": 46,
     "metadata": {},
     "output_type": "execute_result"
    }
   ],
   "source": [
    "bops_bm.columns"
   ]
  },
  {
   "cell_type": "code",
   "execution_count": 47,
   "id": "0c7ef15c-62f4-4309-9222-564710c54621",
   "metadata": {},
   "outputs": [
    {
     "data": {
      "text/plain": [
       "Index(['id (DMA)', 'year', 'month', 'week', 'after', 'close', ' sales '], dtype='object')"
      ]
     },
     "execution_count": 47,
     "metadata": {},
     "output_type": "execute_result"
    }
   ],
   "source": [
    "bops_ol.columns"
   ]
  },
  {
   "cell_type": "code",
   "execution_count": 48,
   "id": "73ec9ee8-afa3-4af4-a026-cd884f809ae5",
   "metadata": {},
   "outputs": [],
   "source": [
    "bops_ol.rename(columns={'id (DMA)':'id_dma',' sales ':'sales'},inplace=True)\n",
    "bops_bm.rename(columns={'id (store)':'id_store',' sales ':'sales'},inplace=True)"
   ]
  },
  {
   "cell_type": "code",
   "execution_count": 50,
   "id": "2a2bc768-6f36-4f68-8e78-deedc4470a7d",
   "metadata": {},
   "outputs": [
    {
     "name": "stdout",
     "output_type": "stream",
     "text": [
      "<class 'pandas.core.frame.DataFrame'>\n",
      "RangeIndex: 10710 entries, 0 to 10709\n",
      "Data columns (total 7 columns):\n",
      " #   Column  Non-Null Count  Dtype \n",
      "---  ------  --------------  ----- \n",
      " 0   id_dma  10710 non-null  int64 \n",
      " 1   year    10710 non-null  int64 \n",
      " 2   month   10710 non-null  int64 \n",
      " 3   week    10710 non-null  int64 \n",
      " 4   after   10710 non-null  int64 \n",
      " 5   close   10710 non-null  int64 \n",
      " 6   sales   10710 non-null  object\n",
      "dtypes: int64(6), object(1)\n",
      "memory usage: 585.8+ KB\n"
     ]
    }
   ],
   "source": [
    "bops_ol.info()"
   ]
  },
  {
   "cell_type": "code",
   "execution_count": 51,
   "id": "c43236bc-7ae3-4d30-9145-1ee226236a85",
   "metadata": {},
   "outputs": [
    {
     "name": "stdout",
     "output_type": "stream",
     "text": [
      "<class 'pandas.core.frame.DataFrame'>\n",
      "RangeIndex: 4538 entries, 0 to 4537\n",
      "Data columns (total 7 columns):\n",
      " #   Column    Non-Null Count  Dtype  \n",
      "---  ------    --------------  -----  \n",
      " 0   id_store  4536 non-null   float64\n",
      " 1   year      4536 non-null   float64\n",
      " 2   month     4536 non-null   float64\n",
      " 3   week      4536 non-null   float64\n",
      " 4   usa       4536 non-null   float64\n",
      " 5   after     4536 non-null   float64\n",
      " 6   sales     4536 non-null   object \n",
      "dtypes: float64(6), object(1)\n",
      "memory usage: 248.3+ KB\n"
     ]
    }
   ],
   "source": [
    "bops_bm.info()"
   ]
  },
  {
   "cell_type": "code",
   "execution_count": 54,
   "id": "db644667-8043-4c8e-bfb7-c00117d5abfd",
   "metadata": {},
   "outputs": [],
   "source": [
    "bops_bm['sales'] = bops_bm['sales'].apply(lambda x: float(str(x).replace(',','')))"
   ]
  },
  {
   "cell_type": "code",
   "execution_count": 55,
   "id": "0cd8eec1-f504-43c8-af8e-daddb320d3c6",
   "metadata": {},
   "outputs": [],
   "source": [
    "bops_ol['sales'] = bops_ol['sales'].apply(lambda x: float(str(x).replace(',','')))"
   ]
  },
  {
   "cell_type": "code",
   "execution_count": 41,
   "id": "1336d9b4-861f-418e-8988-7ded39d061af",
   "metadata": {},
   "outputs": [
    {
     "data": {
      "text/html": [
       "<div>\n",
       "<style scoped>\n",
       "    .dataframe tbody tr th:only-of-type {\n",
       "        vertical-align: middle;\n",
       "    }\n",
       "\n",
       "    .dataframe tbody tr th {\n",
       "        vertical-align: top;\n",
       "    }\n",
       "\n",
       "    .dataframe thead th {\n",
       "        text-align: right;\n",
       "    }\n",
       "</style>\n",
       "<table border=\"1\" class=\"dataframe\">\n",
       "  <thead>\n",
       "    <tr style=\"text-align: right;\">\n",
       "      <th></th>\n",
       "      <th>id (DMA)</th>\n",
       "      <th>year</th>\n",
       "      <th>month</th>\n",
       "      <th>week</th>\n",
       "      <th>after</th>\n",
       "      <th>close</th>\n",
       "      <th>sales</th>\n",
       "    </tr>\n",
       "  </thead>\n",
       "  <tbody>\n",
       "    <tr>\n",
       "      <th>0</th>\n",
       "      <td>1</td>\n",
       "      <td>2011</td>\n",
       "      <td>4</td>\n",
       "      <td>17</td>\n",
       "      <td>0</td>\n",
       "      <td>1</td>\n",
       "      <td>18,564</td>\n",
       "    </tr>\n",
       "    <tr>\n",
       "      <th>1</th>\n",
       "      <td>1</td>\n",
       "      <td>2011</td>\n",
       "      <td>4</td>\n",
       "      <td>18</td>\n",
       "      <td>0</td>\n",
       "      <td>1</td>\n",
       "      <td>30,883</td>\n",
       "    </tr>\n",
       "  </tbody>\n",
       "</table>\n",
       "</div>"
      ],
      "text/plain": [
       "   id (DMA)  year  month  week  after  close  sales \n",
       "0         1  2011      4    17      0      1  18,564\n",
       "1         1  2011      4    18      0      1  30,883"
      ]
     },
     "execution_count": 41,
     "metadata": {},
     "output_type": "execute_result"
    }
   ],
   "source": [
    "bops_ol.head(2)"
   ]
  },
  {
   "cell_type": "code",
   "execution_count": 40,
   "id": "4255a000-fe6d-4b43-bb71-ffe3ddab6616",
   "metadata": {},
   "outputs": [
    {
     "name": "stdout",
     "output_type": "stream",
     "text": [
      "2011.0    3192\n",
      "2012.0    1344\n",
      "Name: year, dtype: int64\n",
      "2011    7770\n",
      "2012    2940\n",
      "Name: year, dtype: int64\n"
     ]
    }
   ],
   "source": [
    "print(bops_bm.year.value_counts())\n",
    "print(bops_ol.year.value_counts())"
   ]
  },
  {
   "cell_type": "code",
   "execution_count": 34,
   "id": "1cf84bff-da35-4941-9ae6-4e06b193b69d",
   "metadata": {},
   "outputs": [
    {
     "data": {
      "text/plain": [
       "1.0     504\n",
       "5.0     420\n",
       "4.0     420\n",
       "10.0    420\n",
       "8.0     420\n",
       "6.0     336\n",
       "9.0     336\n",
       "12.0    336\n",
       "2.0     336\n",
       "11.0    336\n",
       "3.0     336\n",
       "7.0     336\n",
       "Name: month, dtype: int64"
      ]
     },
     "execution_count": 34,
     "metadata": {},
     "output_type": "execute_result"
    }
   ],
   "source": [
    "bops_bm.month.value_counts()"
   ]
  },
  {
   "cell_type": "code",
   "execution_count": 38,
   "id": "970ccf6f-80ba-4175-8fcf-71d8d19fb86a",
   "metadata": {},
   "outputs": [
    {
     "data": {
      "text/plain": [
       "(84, 210)"
      ]
     },
     "execution_count": 38,
     "metadata": {},
     "output_type": "execute_result"
    }
   ],
   "source": [
    "bops_bm['id (store)'].nunique(),bops_ol['id (DMA)'].nunique()"
   ]
  },
  {
   "cell_type": "code",
   "execution_count": 56,
   "id": "25286a71-b7d8-45a9-b488-f960fcb1b7f1",
   "metadata": {},
   "outputs": [
    {
     "data": {
      "text/plain": [
       "month\n",
       "4.0     15667245.0\n",
       "5.0     29096766.0\n",
       "6.0     24421761.0\n",
       "7.0     19882239.0\n",
       "8.0     22834500.0\n",
       "9.0     25525114.0\n",
       "10.0    30975348.0\n",
       "11.0    26406729.0\n",
       "12.0    26539938.0\n",
       "Name: sales, dtype: float64"
      ]
     },
     "execution_count": 56,
     "metadata": {},
     "output_type": "execute_result"
    }
   ],
   "source": [
    "bops_bm[bops_bm['year']==2011].groupby('month')['sales'].sum()"
   ]
  },
  {
   "cell_type": "code",
   "execution_count": 57,
   "id": "c2cf3da3-a865-4a77-b94a-7cdf68653ac2",
   "metadata": {},
   "outputs": [
    {
     "data": {
      "text/plain": [
       "month\n",
       "1.0    22967261.0\n",
       "2.0    16730702.0\n",
       "3.0    19667916.0\n",
       "4.0     9013847.0\n",
       "Name: sales, dtype: float64"
      ]
     },
     "execution_count": 57,
     "metadata": {},
     "output_type": "execute_result"
    }
   ],
   "source": [
    "bops_bm[bops_bm['year']==2012].groupby('month')['sales'].sum()"
   ]
  },
  {
   "cell_type": "code",
   "execution_count": 58,
   "id": "a74d70c2-1b23-4d56-8c48-be23a081be0b",
   "metadata": {},
   "outputs": [
    {
     "data": {
      "text/plain": [
       "month\n",
       "4      6216381.0\n",
       "5     17192284.0\n",
       "6     13149208.0\n",
       "7     11264609.0\n",
       "8     14492431.0\n",
       "9     12351809.0\n",
       "10    14989778.0\n",
       "11    18380415.0\n",
       "12    12706007.0\n",
       "Name: sales, dtype: float64"
      ]
     },
     "execution_count": 58,
     "metadata": {},
     "output_type": "execute_result"
    }
   ],
   "source": [
    "bops_ol[bops_ol['year']==2011].groupby('month')['sales'].sum()"
   ]
  },
  {
   "cell_type": "code",
   "execution_count": 59,
   "id": "66a04b29-4b9b-4127-b97d-a604c628a089",
   "metadata": {},
   "outputs": [
    {
     "data": {
      "text/plain": [
       "month\n",
       "1    11798879.0\n",
       "2     8322754.0\n",
       "3     6459044.0\n",
       "Name: sales, dtype: float64"
      ]
     },
     "execution_count": 59,
     "metadata": {},
     "output_type": "execute_result"
    }
   ],
   "source": [
    "bops_ol[bops_ol['year']==2012].groupby('month')['sales'].sum()"
   ]
  },
  {
   "cell_type": "markdown",
   "id": "56adb612-fdf3-42a6-a90c-8021b97c1a0f",
   "metadata": {},
   "source": [
    "> We have BM sales registred for month number 4 but in online we don't.\n"
   ]
  },
  {
   "cell_type": "code",
   "execution_count": 60,
   "id": "5811aeb9-d75d-48e2-bf4d-dc615324414a",
   "metadata": {},
   "outputs": [
    {
     "data": {
      "text/plain": [
       "1    1260\n",
       "2     840\n",
       "3     840\n",
       "Name: month, dtype: int64"
      ]
     },
     "execution_count": 60,
     "metadata": {},
     "output_type": "execute_result"
    }
   ],
   "source": [
    "bops_ol[bops_ol['year']==2012]['month'].value_counts()"
   ]
  },
  {
   "cell_type": "code",
   "execution_count": 64,
   "id": "b4fd8daa-f931-4826-8ade-0623a55c1e9b",
   "metadata": {},
   "outputs": [
    {
     "data": {
      "text/plain": [
       "66.854985"
      ]
     },
     "execution_count": 64,
     "metadata": {},
     "output_type": "execute_result"
    }
   ],
   "source": [
    "bops_ol[bops_ol['after']==1].groupby('month')['sales'].sum().sum()/1000000"
   ]
  },
  {
   "cell_type": "code",
   "execution_count": 67,
   "id": "1e66477d-904e-43ad-ad71-cbb3640ab4cd",
   "metadata": {},
   "outputs": [
    {
     "data": {
      "text/plain": [
       "80.468614"
      ]
     },
     "execution_count": 67,
     "metadata": {},
     "output_type": "execute_result"
    }
   ],
   "source": [
    "bops_ol[bops_ol['after']==0].groupby('month')['sales'].sum().sum()/1000000"
   ]
  },
  {
   "cell_type": "code",
   "execution_count": 65,
   "id": "94b16c7a-f9d1-4c79-9d3e-e157c637f802",
   "metadata": {},
   "outputs": [
    {
     "data": {
      "text/plain": [
       "110.455609"
      ]
     },
     "execution_count": 65,
     "metadata": {},
     "output_type": "execute_result"
    }
   ],
   "source": [
    "bops_bm[(bops_bm['usa']==1)&(bops_bm['after']==1)].groupby('month')['sales'].sum().sum()/1000000"
   ]
  },
  {
   "cell_type": "code",
   "execution_count": 72,
   "id": "c88a54ae-5b84-46b5-b3b9-d05c5f09922c",
   "metadata": {},
   "outputs": [
    {
     "data": {
      "text/plain": [
       "122.730695"
      ]
     },
     "execution_count": 72,
     "metadata": {},
     "output_type": "execute_result"
    }
   ],
   "source": [
    "bops_bm[(bops_bm['usa']==1)&(bops_bm['after']==0)].groupby('month')['sales'].sum().sum()/1000000"
   ]
  },
  {
   "cell_type": "markdown",
   "id": "d17f1d2b-fcef-4c4c-a2f0-0175a97062d7",
   "metadata": {},
   "source": [
    "For the question of how much was lost after the program started, we have:"
   ]
  },
  {
   "cell_type": "markdown",
   "id": "8a1807bd-f65e-4511-9a05-fb0e12f78449",
   "metadata": {},
   "source": [
    "> Sales went down after the go live of the pick up project.\n",
    "\n",
    "> BM sales are down by 10% and OL sales are down by 16.9%, corresponding to nearly $12.2 M and $13.6 M.\n",
    "\n",
    "We can see this directly from the data, using the flag tha indicates the starting week of the new project and obtaining the total sales after and before."
   ]
  },
  {
   "cell_type": "markdown",
   "id": "24c6be74-0580-4f6b-a794-158b5463a8f4",
   "metadata": {},
   "source": [
    "Non-US operation with respect to the go-live"
   ]
  },
  {
   "cell_type": "code",
   "execution_count": 74,
   "id": "89a24089-c157-422b-a956-1f589dcfb331",
   "metadata": {},
   "outputs": [
    {
     "data": {
      "text/plain": [
       "30.689777"
      ]
     },
     "execution_count": 74,
     "metadata": {},
     "output_type": "execute_result"
    }
   ],
   "source": [
    "bops_bm[(bops_bm['usa']==0)&(bops_bm['after']==0)].groupby('month')['sales'].sum().sum()/1000000"
   ]
  },
  {
   "cell_type": "code",
   "execution_count": 76,
   "id": "93123cda-5f02-4aaa-b5e0-07496fa68935",
   "metadata": {},
   "outputs": [
    {
     "data": {
      "text/plain": [
       "25.853285"
      ]
     },
     "execution_count": 76,
     "metadata": {},
     "output_type": "execute_result"
    }
   ],
   "source": [
    "bops_bm[(bops_bm['usa']==0)&(bops_bm['after']==1)].groupby('month')['sales'].sum().sum()/1000000"
   ]
  },
  {
   "cell_type": "markdown",
   "id": "a25dd534-172b-4c4b-8cd5-887426a997af",
   "metadata": {},
   "source": [
    "> Sales in non-us stores were down by 15.7%.\n",
    "\n",
    "> With this in mind and the possible negative effect of the progam perhaps the best not to move the operation to this countries."
   ]
  },
  {
   "cell_type": "markdown",
   "id": "470829d6-30f2-4046-af46-b39d52678442",
   "metadata": {},
   "source": [
    "Online sales for DMA with close store or not"
   ]
  },
  {
   "cell_type": "code",
   "execution_count": 70,
   "id": "4281013b-2f52-49e5-abae-b9b977fa7fc0",
   "metadata": {},
   "outputs": [
    {
     "data": {
      "text/plain": [
       "81.903983"
      ]
     },
     "execution_count": 70,
     "metadata": {},
     "output_type": "execute_result"
    }
   ],
   "source": [
    "bops_ol[bops_ol['close']==0].groupby('month')['sales'].sum().sum()/1000000"
   ]
  },
  {
   "cell_type": "code",
   "execution_count": 71,
   "id": "fd768ed8-3b41-4312-9819-6f8ba7f6efe5",
   "metadata": {},
   "outputs": [
    {
     "data": {
      "text/plain": [
       "65.419616"
      ]
     },
     "execution_count": 71,
     "metadata": {},
     "output_type": "execute_result"
    }
   ],
   "source": [
    "bops_ol[bops_ol['close']==1].groupby('month')['sales'].sum().sum()/1000000"
   ]
  },
  {
   "cell_type": "markdown",
   "id": "bc90466a-4f4d-437c-90e5-206483f34f73",
   "metadata": {},
   "source": [
    "> There's a difference in total sales."
   ]
  },
  {
   "cell_type": "code",
   "execution_count": 81,
   "id": "379387ec-b232-4187-b926-bfbe84948196",
   "metadata": {},
   "outputs": [
    {
     "data": {
      "text/plain": [
       "36.090582"
      ]
     },
     "execution_count": 81,
     "metadata": {},
     "output_type": "execute_result"
    }
   ],
   "source": [
    "bops_ol[(bops_ol['close']==1)&(bops_ol['after']==0)].groupby('month')['sales'].sum().sum()/1000000"
   ]
  },
  {
   "cell_type": "code",
   "execution_count": 82,
   "id": "c665ce08-2a0f-4e78-9e1d-ff002db5bc68",
   "metadata": {},
   "outputs": [
    {
     "data": {
      "text/plain": [
       "29.329034"
      ]
     },
     "execution_count": 82,
     "metadata": {},
     "output_type": "execute_result"
    }
   ],
   "source": [
    "bops_ol[(bops_ol['close']==1)&(bops_ol['after']==1)].groupby('month')['sales'].sum().sum()/1000000"
   ]
  },
  {
   "cell_type": "markdown",
   "id": "e86805da-3643-43f2-9fbe-78f300322aec",
   "metadata": {},
   "source": [
    " > For the DMAs with a close store it seems the difference in sales is also present after the kickoff of the new program, 18.7%."
   ]
  },
  {
   "cell_type": "code",
   "execution_count": 83,
   "id": "8dbc289f-649c-41f6-a07f-d17a8a18f036",
   "metadata": {},
   "outputs": [
    {
     "data": {
      "text/plain": [
       "44.378032"
      ]
     },
     "execution_count": 83,
     "metadata": {},
     "output_type": "execute_result"
    }
   ],
   "source": [
    "bops_ol[(bops_ol['close']==0)&(bops_ol['after']==0)].groupby('month')['sales'].sum().sum()/1000000"
   ]
  },
  {
   "cell_type": "code",
   "execution_count": 84,
   "id": "c00e920c-bc19-464f-b8b3-45ec3d43a7c4",
   "metadata": {},
   "outputs": [
    {
     "data": {
      "text/plain": [
       "37.525951"
      ]
     },
     "execution_count": 84,
     "metadata": {},
     "output_type": "execute_result"
    }
   ],
   "source": [
    "bops_ol[(bops_ol['close']==0)&(bops_ol['after']==1)].groupby('month')['sales'].sum().sum()/1000000"
   ]
  },
  {
   "cell_type": "markdown",
   "id": "adf73b21-4db7-48d9-86a3-2db6abaedfca",
   "metadata": {},
   "source": [
    " > For the DMAs out of range (50 miles) of a store it seems the difference in sales is also there after the kickoff of the new program, 15.4%."
   ]
  },
  {
   "cell_type": "markdown",
   "id": "e153a080-749d-47b5-b95f-a0999e292ad8",
   "metadata": {},
   "source": [
    "### Average sales per week"
   ]
  },
  {
   "cell_type": "code",
   "execution_count": 87,
   "id": "5ae88e14-ce9e-4ca2-b73a-8ee753017bbd",
   "metadata": {},
   "outputs": [
    {
     "data": {
      "text/plain": [
       "14737.841391941389"
      ]
     },
     "execution_count": 87,
     "metadata": {},
     "output_type": "execute_result"
    }
   ],
   "source": [
    "bops_ol[bops_ol['after']==0].groupby('week')['sales'].mean().mean()"
   ]
  },
  {
   "cell_type": "code",
   "execution_count": 88,
   "id": "f38e6028-a821-42b8-94b7-aa202383c119",
   "metadata": {},
   "outputs": [
    {
     "data": {
      "text/plain": [
       "12734.282857142856"
      ]
     },
     "execution_count": 88,
     "metadata": {},
     "output_type": "execute_result"
    }
   ],
   "source": [
    "bops_ol[bops_ol['after']==1].groupby('week')['sales'].mean().mean()"
   ]
  },
  {
   "cell_type": "code",
   "execution_count": 94,
   "id": "5bfef60f-3f19-4b50-a940-44d3a7eb2bdb",
   "metadata": {},
   "outputs": [
    {
     "data": {
      "text/plain": [
       "67645.71075837743"
      ]
     },
     "execution_count": 94,
     "metadata": {},
     "output_type": "execute_result"
    }
   ],
   "source": [
    "bops_bm[bops_bm['after']==0].groupby('week')['sales'].mean().mean()"
   ]
  },
  {
   "cell_type": "code",
   "execution_count": 95,
   "id": "e57007a2-eafe-487d-940f-de72b061e1a6",
   "metadata": {},
   "outputs": [
    {
     "data": {
      "text/plain": [
       "60100.92328042328"
      ]
     },
     "execution_count": 95,
     "metadata": {},
     "output_type": "execute_result"
    }
   ],
   "source": [
    "bops_bm[bops_bm['after']==1].groupby('week')['sales'].mean().mean()"
   ]
  },
  {
   "cell_type": "markdown",
   "id": "44ae23c7-f6d6-4c84-9800-353b0c861b1f",
   "metadata": {},
   "source": [
    "> This are the results from the file."
   ]
  },
  {
   "cell_type": "code",
   "execution_count": 127,
   "id": "9179a998-f11f-4430-8477-81a201ba3c7c",
   "metadata": {},
   "outputs": [],
   "source": [
    "bops_bm.dropna(inplace=True)"
   ]
  },
  {
   "cell_type": "code",
   "execution_count": 137,
   "id": "3751917d-ba06-441b-878c-b80603cce1eb",
   "metadata": {},
   "outputs": [
    {
     "data": {
      "text/plain": [
       "array([43., 44., 45., 46., 47., 48., 49., 50., 51., 52., 53.,  1.,  2.,\n",
       "        3.,  4.,  5.,  6.,  7.,  8.,  9., 10., 11., 12., 13., 14., 15.,\n",
       "       16.])"
      ]
     },
     "execution_count": 137,
     "metadata": {},
     "output_type": "execute_result"
    }
   ],
   "source": [
    "bops_bm[bops_bm['after']==1]['week'].unique()"
   ]
  },
  {
   "cell_type": "code",
   "execution_count": 152,
   "id": "f7ac53f6-4d03-4251-9ff9-03bd7e06734e",
   "metadata": {},
   "outputs": [],
   "source": [
    "bops_bm.loc[:, 'week_year'] = bops_bm['year'].astype(int).astype(str) + bops_bm['week'].astype(int).astype(str)\n",
    "bops_ol.loc[:, 'week_year'] = bops_ol['year'].astype(int).astype(str) + bops_ol['week'].astype(int).astype(str)"
   ]
  },
  {
   "cell_type": "code",
   "execution_count": 145,
   "id": "e1cf1d67-2ba7-425c-bde2-7ba2c5df936c",
   "metadata": {},
   "outputs": [
    {
     "data": {
      "text/html": [
       "<div>\n",
       "<style scoped>\n",
       "    .dataframe tbody tr th:only-of-type {\n",
       "        vertical-align: middle;\n",
       "    }\n",
       "\n",
       "    .dataframe tbody tr th {\n",
       "        vertical-align: top;\n",
       "    }\n",
       "\n",
       "    .dataframe thead th {\n",
       "        text-align: right;\n",
       "    }\n",
       "</style>\n",
       "<table border=\"1\" class=\"dataframe\">\n",
       "  <thead>\n",
       "    <tr style=\"text-align: right;\">\n",
       "      <th></th>\n",
       "      <th>week_year</th>\n",
       "      <th>id_store</th>\n",
       "      <th>sales</th>\n",
       "    </tr>\n",
       "  </thead>\n",
       "  <tbody>\n",
       "    <tr>\n",
       "      <th>0</th>\n",
       "      <td>201116</td>\n",
       "      <td>1.0</td>\n",
       "      <td>118691.0</td>\n",
       "    </tr>\n",
       "    <tr>\n",
       "      <th>1</th>\n",
       "      <td>201116</td>\n",
       "      <td>3.0</td>\n",
       "      <td>31152.0</td>\n",
       "    </tr>\n",
       "    <tr>\n",
       "      <th>2</th>\n",
       "      <td>201116</td>\n",
       "      <td>5.0</td>\n",
       "      <td>92159.0</td>\n",
       "    </tr>\n",
       "    <tr>\n",
       "      <th>3</th>\n",
       "      <td>201116</td>\n",
       "      <td>7.0</td>\n",
       "      <td>70556.0</td>\n",
       "    </tr>\n",
       "    <tr>\n",
       "      <th>4</th>\n",
       "      <td>201116</td>\n",
       "      <td>9.0</td>\n",
       "      <td>91608.0</td>\n",
       "    </tr>\n",
       "  </tbody>\n",
       "</table>\n",
       "</div>"
      ],
      "text/plain": [
       "  week_year  id_store     sales\n",
       "0    201116       1.0  118691.0\n",
       "1    201116       3.0   31152.0\n",
       "2    201116       5.0   92159.0\n",
       "3    201116       7.0   70556.0\n",
       "4    201116       9.0   91608.0"
      ]
     },
     "execution_count": 145,
     "metadata": {},
     "output_type": "execute_result"
    }
   ],
   "source": [
    "d = bops_bm.groupby(['week_year','id_store'])['sales'].mean().reset_index()\n",
    "d.head()"
   ]
  },
  {
   "cell_type": "code",
   "execution_count": 151,
   "id": "209d7165-8058-4a21-a717-a8c54300ed11",
   "metadata": {},
   "outputs": [
    {
     "data": {
      "image/png": "[encoded data removed]",
      "text/plain": [
       "<Figure size 1008x504 with 1 Axes>"
      ]
     },
     "metadata": {},
     "output_type": "display_data"
    }
   ],
   "source": [
    "stores = np.random.choice(list(d.id_store),5)\n",
    "\n",
    "d[d.id_store.isin(stores)].groupby(['week_year',\n",
    "           'id_store'])[['sales']].mean().reset_index().set_index('week_year').groupby('id_store')['sales'].plot(legend=True,\n",
    "                                                                                                                   figsize=(14,7))\n",
    "plt.axvline(x=27, linewidth=2, color='r')\n",
    "plt.show()"
   ]
  },
  {
   "cell_type": "code",
   "execution_count": 154,
   "id": "0463da2a-9997-4865-8444-b6031993f5cc",
   "metadata": {},
   "outputs": [
    {
     "data": {
      "text/html": [
       "<div>\n",
       "<style scoped>\n",
       "    .dataframe tbody tr th:only-of-type {\n",
       "        vertical-align: middle;\n",
       "    }\n",
       "\n",
       "    .dataframe tbody tr th {\n",
       "        vertical-align: top;\n",
       "    }\n",
       "\n",
       "    .dataframe thead th {\n",
       "        text-align: right;\n",
       "    }\n",
       "</style>\n",
       "<table border=\"1\" class=\"dataframe\">\n",
       "  <thead>\n",
       "    <tr style=\"text-align: right;\">\n",
       "      <th></th>\n",
       "      <th>week_year</th>\n",
       "      <th>id_dma</th>\n",
       "      <th>sales</th>\n",
       "    </tr>\n",
       "  </thead>\n",
       "  <tbody>\n",
       "    <tr>\n",
       "      <th>0</th>\n",
       "      <td>201117</td>\n",
       "      <td>1</td>\n",
       "      <td>18564.0</td>\n",
       "    </tr>\n",
       "    <tr>\n",
       "      <th>1</th>\n",
       "      <td>201117</td>\n",
       "      <td>2</td>\n",
       "      <td>86333.0</td>\n",
       "    </tr>\n",
       "    <tr>\n",
       "      <th>2</th>\n",
       "      <td>201117</td>\n",
       "      <td>3</td>\n",
       "      <td>24120.0</td>\n",
       "    </tr>\n",
       "    <tr>\n",
       "      <th>3</th>\n",
       "      <td>201117</td>\n",
       "      <td>4</td>\n",
       "      <td>2944.0</td>\n",
       "    </tr>\n",
       "    <tr>\n",
       "      <th>4</th>\n",
       "      <td>201117</td>\n",
       "      <td>5</td>\n",
       "      <td>27618.0</td>\n",
       "    </tr>\n",
       "  </tbody>\n",
       "</table>\n",
       "</div>"
      ],
      "text/plain": [
       "  week_year  id_dma    sales\n",
       "0    201117       1  18564.0\n",
       "1    201117       2  86333.0\n",
       "2    201117       3  24120.0\n",
       "3    201117       4   2944.0\n",
       "4    201117       5  27618.0"
      ]
     },
     "execution_count": 154,
     "metadata": {},
     "output_type": "execute_result"
    }
   ],
   "source": [
    "d = bops_ol.groupby(['week_year','id_dma'])['sales'].mean().reset_index()\n",
    "d.head()"
   ]
  },
  {
   "cell_type": "code",
   "execution_count": 155,
   "id": "0ecf21d3-9073-4590-a748-45a41af9646b",
   "metadata": {},
   "outputs": [
    {
     "data": {
      "image/png": "[encoded data removed]",
      "text/plain": [
       "<Figure size 1008x504 with 1 Axes>"
      ]
     },
     "metadata": {},
     "output_type": "display_data"
    }
   ],
   "source": [
    "dmas = np.random.choice(list(d.id_dma),5)\n",
    "\n",
    "d[d.id_dma.isin(dmas)].groupby(['week_year',\n",
    "           'id_dma'])[['sales']].mean().reset_index().set_index('week_year').groupby('id_dma')['sales'].plot(legend=True,\n",
    "                                                                                                                   figsize=(14,7))\n",
    "plt.axvline(x=27, linewidth=2, color='r')\n",
    "plt.show()"
   ]
  },
  {
   "cell_type": "code",
   "execution_count": 156,
   "id": "f427aa3b-ae86-4e8f-aeb1-38abc265f488",
   "metadata": {},
   "outputs": [
    {
     "data": {
      "text/html": [
       "<div>\n",
       "<style scoped>\n",
       "    .dataframe tbody tr th:only-of-type {\n",
       "        vertical-align: middle;\n",
       "    }\n",
       "\n",
       "    .dataframe tbody tr th {\n",
       "        vertical-align: top;\n",
       "    }\n",
       "\n",
       "    .dataframe thead th {\n",
       "        text-align: right;\n",
       "    }\n",
       "</style>\n",
       "<table border=\"1\" class=\"dataframe\">\n",
       "  <thead>\n",
       "    <tr style=\"text-align: right;\">\n",
       "      <th></th>\n",
       "      <th>week_year</th>\n",
       "      <th>sales</th>\n",
       "    </tr>\n",
       "  </thead>\n",
       "  <tbody>\n",
       "    <tr>\n",
       "      <th>0</th>\n",
       "      <td>201117</td>\n",
       "      <td>14435.152381</td>\n",
       "    </tr>\n",
       "    <tr>\n",
       "      <th>1</th>\n",
       "      <td>201118</td>\n",
       "      <td>15166.661905</td>\n",
       "    </tr>\n",
       "    <tr>\n",
       "      <th>2</th>\n",
       "      <td>201119</td>\n",
       "      <td>16681.485714</td>\n",
       "    </tr>\n",
       "    <tr>\n",
       "      <th>3</th>\n",
       "      <td>201120</td>\n",
       "      <td>16163.423810</td>\n",
       "    </tr>\n",
       "    <tr>\n",
       "      <th>4</th>\n",
       "      <td>201121</td>\n",
       "      <td>17782.166667</td>\n",
       "    </tr>\n",
       "  </tbody>\n",
       "</table>\n",
       "</div>"
      ],
      "text/plain": [
       "  week_year         sales\n",
       "0    201117  14435.152381\n",
       "1    201118  15166.661905\n",
       "2    201119  16681.485714\n",
       "3    201120  16163.423810\n",
       "4    201121  17782.166667"
      ]
     },
     "execution_count": 156,
     "metadata": {},
     "output_type": "execute_result"
    }
   ],
   "source": [
    "media = bops_ol.groupby(['week_year'])['sales'].mean().reset_index()\n",
    "media.head()"
   ]
  },
  {
   "cell_type": "code",
   "execution_count": 158,
   "id": "b52a9fef-a399-4892-9966-c09d478cde8d",
   "metadata": {},
   "outputs": [
    {
     "data": {
      "image/png": "[encoded data removed]",
      "text/plain": [
       "<Figure size 1008x504 with 1 Axes>"
      ]
     },
     "metadata": {},
     "output_type": "display_data"
    }
   ],
   "source": [
    "media.set_index('week_year').plot(legend=True,figsize=(14,7))\n",
    "plt.axvline(x=27, linewidth=2, color='r')\n",
    "plt.show()"
   ]
  },
  {
   "cell_type": "markdown",
   "id": "49cee7e6-7ec8-4a76-84ec-6c44581d2fdc",
   "metadata": {},
   "source": [
    "In the chart the red line is the inclusion of the new channel.\n",
    "\n",
    "> We observe that sales are sustained up until the end of the year.\n",
    "Soon after, around week 6 to 8 sales start to decrease."
   ]
  },
  {
   "cell_type": "code",
   "execution_count": null,
   "id": "0fa11d87-e040-4652-910a-2d0ddf609049",
   "metadata": {},
   "outputs": [],
   "source": []
  }
 ],
 "metadata": {
  "kernelspec": {
   "display_name": "Python 3",
   "language": "python",
   "name": "python3"
  },
  "language_info": {
   "codemirror_mode": {
    "name": "ipython",
    "version": 3
   },
   "file_extension": ".py",
   "mimetype": "text/x-python",
   "name": "python",
   "nbconvert_exporter": "python",
   "pygments_lexer": "ipython3",
   "version": "3.9.5"
  }
 },
 "nbformat": 4,
 "nbformat_minor": 5
}
