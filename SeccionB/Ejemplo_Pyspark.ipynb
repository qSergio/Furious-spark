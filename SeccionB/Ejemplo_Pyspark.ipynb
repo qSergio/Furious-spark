{
 "cells": [
  {
   "cell_type": "markdown",
   "metadata": {},
   "source": [
    "## QUIÉN ES QUIÉN EN LOS PRECIOS"
   ]
  },
  {
   "cell_type": "code",
   "execution_count": 1,
   "metadata": {},
   "outputs": [],
   "source": [
    "import pyspark"
   ]
  },
  {
   "cell_type": "code",
   "execution_count": 2,
   "metadata": {},
   "outputs": [],
   "source": [
    "from pyspark.sql import SparkSession\n",
    "from pyspark.sql.functions import countDistinct\n",
    "from pyspark.sql.functions import desc"
   ]
  },
  {
   "cell_type": "code",
   "execution_count": 3,
   "metadata": {},
   "outputs": [],
   "source": [
    "spark = SparkSession.builder.master(\"local[1]\").appName(\"Precios\").getOrCreate()"
   ]
  },
  {
   "cell_type": "code",
   "execution_count": 4,
   "metadata": {},
   "outputs": [
    {
     "name": "stdout",
     "output_type": "stream",
     "text": [
      "root\n",
      " |-- producto: string (nullable = true)\n",
      " |-- presentacion: string (nullable = true)\n",
      " |-- marca: string (nullable = true)\n",
      " |-- categoria: string (nullable = true)\n",
      " |-- catalogo: string (nullable = true)\n",
      " |-- precio: string (nullable = true)\n",
      " |-- fechaRegistro: string (nullable = true)\n",
      " |-- cadenaComercial: string (nullable = true)\n",
      " |-- giro: string (nullable = true)\n",
      " |-- nombreComercial: string (nullable = true)\n",
      " |-- direccion: string (nullable = true)\n",
      " |-- estado: string (nullable = true)\n",
      " |-- municipio: string (nullable = true)\n",
      " |-- latitud: string (nullable = true)\n",
      " |-- longitud: string (nullable = true)\n",
      "\n"
     ]
    }
   ],
   "source": [
    "df = spark.read.option(\"header\",True).csv(\"all_data.csv\")\n",
    "df.printSchema()"
   ]
  },
  {
   "cell_type": "code",
   "execution_count": 5,
   "metadata": {},
   "outputs": [
    {
     "name": "stdout",
     "output_type": "stream",
     "text": [
      "+--------------------+--------------------+--------------------+--------------------+-----------------+------+--------------------+------------------+--------------------+--------------------+--------------------+----------------+--------------------+--------+----------+\n",
      "|            producto|        presentacion|               marca|           categoria|         catalogo|precio|       fechaRegistro|   cadenaComercial|                giro|     nombreComercial|           direccion|          estado|           municipio| latitud|  longitud|\n",
      "+--------------------+--------------------+--------------------+--------------------+-----------------+------+--------------------+------------------+--------------------+--------------------+--------------------+----------------+--------------------+--------+----------+\n",
      "|CUADERNO FORMA IT...|96 HOJAS PASTA DU...|            ESTRELLA|    MATERIAL ESCOLAR| UTILES ESCOLARES|  25.9|2011-05-18 00:00:...|ABASTECEDORA LUMEN|          PAPELERIAS|ABASTECEDORA LUME...|CANNES No. 6 ESQ....|DISTRITO FEDERAL|TLALPAN          ...|19.29699|-99.125417|\n",
      "|            CRAYONES|CAJA 12 CERAS. JU...|             CRAYOLA|    MATERIAL ESCOLAR| UTILES ESCOLARES|  27.5|2011-05-18 00:00:...|ABASTECEDORA LUMEN|          PAPELERIAS|ABASTECEDORA LUME...|CANNES No. 6 ESQ....|DISTRITO FEDERAL|TLALPAN          ...|19.29699|-99.125417|\n",
      "|            CRAYONES|CAJA 12 CERAS. TA...|             CRAYOLA|    MATERIAL ESCOLAR| UTILES ESCOLARES|  13.9|2011-05-18 00:00:...|ABASTECEDORA LUMEN|          PAPELERIAS|ABASTECEDORA LUME...|CANNES No. 6 ESQ....|DISTRITO FEDERAL|TLALPAN          ...|19.29699|-99.125417|\n",
      "|   COLORES DE MADERA|CAJA 12 PIEZAS LA...|            PINCELIN|    MATERIAL ESCOLAR| UTILES ESCOLARES|  46.9|2011-05-18 00:00:...|ABASTECEDORA LUMEN|          PAPELERIAS|ABASTECEDORA LUME...|CANNES No. 6 ESQ....|DISTRITO FEDERAL|TLALPAN          ...|19.29699|-99.125417|\n",
      "|         COLOR LARGO|CAJA 36 PIEZAS. C...|             CRAYOLA|    MATERIAL ESCOLAR| UTILES ESCOLARES|   115|2011-05-18 00:00:...|ABASTECEDORA LUMEN|          PAPELERIAS|ABASTECEDORA LUME...|CANNES No. 6 ESQ....|DISTRITO FEDERAL|TLALPAN          ...|19.29699|-99.125417|\n",
      "|           BOLIGRAFO|BLISTER 3 PIEZAS....|    BIC. CRISTAL GEL|    MATERIAL ESCOLAR| UTILES ESCOLARES|  32.5|2011-05-18 00:00:...|ABASTECEDORA LUMEN|          PAPELERIAS|ABASTECEDORA LUME...|CANNES No. 6 ESQ....|DISTRITO FEDERAL|TLALPAN          ...|19.29699|-99.125417|\n",
      "|      CINTA ADHESIVA|BOLSA 1 PIEZA. 12...|      SCOTCH 3M. 600|    MATERIAL ESCOLAR| UTILES ESCOLARES|     9|2011-05-18 00:00:...|ABASTECEDORA LUMEN|          PAPELERIAS|ABASTECEDORA LUME...|CANNES No. 6 ESQ....|DISTRITO FEDERAL|TLALPAN          ...|19.29699|-99.125417|\n",
      "|   COLORES DE MADERA|CAJA 24 PIEZAS. L...|      KORES. KOLORES|    MATERIAL ESCOLAR| UTILES ESCOLARES|  95.9|2011-05-18 00:00:...|ABASTECEDORA LUMEN|          PAPELERIAS|ABASTECEDORA LUME...|CANNES No. 6 ESQ....|DISTRITO FEDERAL|TLALPAN          ...|19.29699|-99.125417|\n",
      "|            CRAYONES|CAJA 24 CERAS. TA...|  PAPER MATE. CARMEN|    MATERIAL ESCOLAR| UTILES ESCOLARES|  23.2|2011-05-18 00:00:...|ABASTECEDORA LUMEN|          PAPELERIAS|ABASTECEDORA LUME...|CANNES No. 6 ESQ....|DISTRITO FEDERAL|TLALPAN          ...|19.29699|-99.125417|\n",
      "|  PAN BLANCO BOLILLO|               PIEZA|                 S/M|                 PAN|          BASICOS|   1.2|2011-01-10 00:00:...|COMERCIAL MEXICANA|TIENDA DE AUTOSER...|COMERCIAL MEXICAN...|AV. LAGO DE GUADA...|          MÉXICO|ATIZAPAN         ...|      NA|        NA|\n",
      "|    HARINA HOT CAKES|        CAJA 800 GR.|PRONTO TRADICIONALES|GALLETAS PASTAS Y...|          BASICOS| 21.63|2011-01-10 00:00:...|COMERCIAL MEXICANA|TIENDA DE AUTOSER...|COMERCIAL MEXICAN...|AV. LAGO DE GUADA...|          MÉXICO|ATIZAPAN         ...|      NA|        NA|\n",
      "|     PASTA PARA SOPA|PAQUETE 200 GR. S...|               VESTA|GALLETAS PASTAS Y...|          BASICOS|  3.45|2011-01-10 00:00:...|COMERCIAL MEXICANA|TIENDA DE AUTOSER...|COMERCIAL MEXICAN...|AV. LAGO DE GUADA...|          MÉXICO|ATIZAPAN         ...|      NA|        NA|\n",
      "|     GALLETAS DULCES|CAJA 652 GR. RICA...|              GAMESA|GALLETAS PASTAS Y...|          BASICOS| 21.77|2011-01-10 00:00:...|COMERCIAL MEXICANA|TIENDA DE AUTOSER...|COMERCIAL MEXICAN...|AV. LAGO DE GUADA...|          MÉXICO|ATIZAPAN         ...|      NA|        NA|\n",
      "|     GALLETAS DULCES|PAQUETE 280 GR. P...|            MARINELA|GALLETAS PASTAS Y...|          BASICOS|    13|2011-01-10 00:00:...|COMERCIAL MEXICANA|TIENDA DE AUTOSER...|COMERCIAL MEXICAN...|AV. LAGO DE GUADA...|          MÉXICO|ATIZAPAN         ...|      NA|        NA|\n",
      "|     GALLETAS DULCES|CAJA 752 GR. SAND...|             NABISCO|GALLETAS PASTAS Y...|          BASICOS| 41.97|2011-01-10 00:00:...|COMERCIAL MEXICANA|TIENDA DE AUTOSER...|COMERCIAL MEXICAN...|AV. LAGO DE GUADA...|          MÉXICO|ATIZAPAN         ...|      NA|        NA|\n",
      "|             SHAMPOO|BOTELLA 400 ML. P...|    HEAD & SHOULDERS|ARTS. PARA EL CUI...|          BASICOS|  49.9|2011-01-10 00:00:...|COMERCIAL MEXICANA|TIENDA DE AUTOSER...|COMERCIAL MEXICAN...|AV. LAGO DE GUADA...|          MÉXICO|ATIZAPAN         ...|      NA|        NA|\n",
      "| HORNO DE MICROONDAS|MS-1446 SQP O  MS...|                  LG| APARATOS ELECTRICOS|ELECTRODOMESTICOS|  1598|2011-01-10 00:00:...|COMERCIAL MEXICANA|TIENDA DE AUTOSER...|COMERCIAL MEXICAN...|AV. LAGO DE GUADA...|          MÉXICO|ATIZAPAN         ...|      NA|        NA|\n",
      "|ACONDICIONADOR Y ...|BOTELLA 300 ML. F...|             GARNIER|ARTS. PARA EL CUI...|          BASICOS|  39.9|2011-01-10 00:00:...|COMERCIAL MEXICANA|TIENDA DE AUTOSER...|COMERCIAL MEXICAN...|AV. LAGO DE GUADA...|          MÉXICO|ATIZAPAN         ...|      NA|        NA|\n",
      "|TINTE PARA EL CAB...|                CAJA|      REVITALIQUE. 4|ARTS. PARA EL CUI...|          BASICOS|    74|2011-01-10 00:00:...|COMERCIAL MEXICANA|TIENDA DE AUTOSER...|COMERCIAL MEXICAN...|AV. LAGO DE GUADA...|          MÉXICO|ATIZAPAN         ...|      NA|        NA|\n",
      "|TINTE PARA EL CAB...|                CAJA|  WELLA KOLESTON. 40|ARTS. PARA EL CUI...|          BASICOS|  58.9|2011-01-10 00:00:...|COMERCIAL MEXICANA|TIENDA DE AUTOSER...|COMERCIAL MEXICAN...|AV. LAGO DE GUADA...|          MÉXICO|ATIZAPAN         ...|      NA|        NA|\n",
      "+--------------------+--------------------+--------------------+--------------------+-----------------+------+--------------------+------------------+--------------------+--------------------+--------------------+----------------+--------------------+--------+----------+\n",
      "only showing top 20 rows\n",
      "\n"
     ]
    }
   ],
   "source": [
    "df.show()"
   ]
  },
  {
   "cell_type": "markdown",
   "metadata": {},
   "source": [
    "1. ¿Cuántos registros hay?\n",
    "2. ¿Cuántas categorías?\n",
    "3. ¿Cuántas cadenas comerciales están siendo monitoreadas?"
   ]
  },
  {
   "cell_type": "code",
   "execution_count": 6,
   "metadata": {},
   "outputs": [
    {
     "name": "stdout",
     "output_type": "stream",
     "text": [
      "62530715\n"
     ]
    }
   ],
   "source": [
    "print(df.count())"
   ]
  },
  {
   "cell_type": "code",
   "execution_count": 18,
   "metadata": {},
   "outputs": [],
   "source": [
    "from pyspark.sql.types import *"
   ]
  },
  {
   "cell_type": "code",
   "execution_count": 21,
   "metadata": {},
   "outputs": [
    {
     "data": {
      "text/plain": [
       "DataFrame[]"
      ]
     },
     "execution_count": 21,
     "metadata": {},
     "output_type": "execute_result"
    }
   ],
   "source": [
    "spark.sql(\"DROP TABLE IF EXISTS precios\")"
   ]
  },
  {
   "cell_type": "code",
   "execution_count": 23,
   "metadata": {},
   "outputs": [
    {
     "name": "stdout",
     "output_type": "stream",
     "text": [
      "+--------------------+--------------------+--------+----------------+----------------+------+--------------------+------------------+----------+--------------------+--------------------+----------------+--------------------+--------+----------+\n",
      "|            producto|        presentacion|   marca|       categoria|        catalogo|precio|       fechaRegistro|   cadenaComercial|      giro|     nombreComercial|           direccion|          estado|           municipio| latitud|  longitud|\n",
      "+--------------------+--------------------+--------+----------------+----------------+------+--------------------+------------------+----------+--------------------+--------------------+----------------+--------------------+--------+----------+\n",
      "|CUADERNO FORMA IT...|96 HOJAS PASTA DU...|ESTRELLA|MATERIAL ESCOLAR|UTILES ESCOLARES|  25.9|2011-05-18 00:00:...|ABASTECEDORA LUMEN|PAPELERIAS|ABASTECEDORA LUME...|CANNES No. 6 ESQ....|DISTRITO FEDERAL|TLALPAN          ...|19.29699|-99.125417|\n",
      "|            CRAYONES|CAJA 12 CERAS. JU...| CRAYOLA|MATERIAL ESCOLAR|UTILES ESCOLARES|  27.5|2011-05-18 00:00:...|ABASTECEDORA LUMEN|PAPELERIAS|ABASTECEDORA LUME...|CANNES No. 6 ESQ....|DISTRITO FEDERAL|TLALPAN          ...|19.29699|-99.125417|\n",
      "|            CRAYONES|CAJA 12 CERAS. TA...| CRAYOLA|MATERIAL ESCOLAR|UTILES ESCOLARES|  13.9|2011-05-18 00:00:...|ABASTECEDORA LUMEN|PAPELERIAS|ABASTECEDORA LUME...|CANNES No. 6 ESQ....|DISTRITO FEDERAL|TLALPAN          ...|19.29699|-99.125417|\n",
      "|   COLORES DE MADERA|CAJA 12 PIEZAS LA...|PINCELIN|MATERIAL ESCOLAR|UTILES ESCOLARES|  46.9|2011-05-18 00:00:...|ABASTECEDORA LUMEN|PAPELERIAS|ABASTECEDORA LUME...|CANNES No. 6 ESQ....|DISTRITO FEDERAL|TLALPAN          ...|19.29699|-99.125417|\n",
      "|         COLOR LARGO|CAJA 36 PIEZAS. C...| CRAYOLA|MATERIAL ESCOLAR|UTILES ESCOLARES|   115|2011-05-18 00:00:...|ABASTECEDORA LUMEN|PAPELERIAS|ABASTECEDORA LUME...|CANNES No. 6 ESQ....|DISTRITO FEDERAL|TLALPAN          ...|19.29699|-99.125417|\n",
      "+--------------------+--------------------+--------+----------------+----------------+------+--------------------+------------------+----------+--------------------+--------------------+----------------+--------------------+--------+----------+\n",
      "only showing top 5 rows\n",
      "\n"
     ]
    }
   ],
   "source": [
    "df.createOrReplaceTempView(\"precios\")\n",
    "spark.sql(\"select * from precios\").show(n=5)"
   ]
  },
  {
   "cell_type": "markdown",
   "metadata": {},
   "source": [
    "#### Vemos algunas formas de calcular usando sql"
   ]
  },
  {
   "cell_type": "code",
   "execution_count": 33,
   "metadata": {},
   "outputs": [
    {
     "name": "stdout",
     "output_type": "stream",
     "text": [
      "+-------------------------+\n",
      "|count(DISTINCT categoria)|\n",
      "+-------------------------+\n",
      "|                       41|\n",
      "+-------------------------+\n",
      "\n"
     ]
    }
   ],
   "source": [
    "spark.sql('SELECT COUNT ( DISTINCT categoria ) FROM precios').show()"
   ]
  },
  {
   "cell_type": "code",
   "execution_count": null,
   "metadata": {},
   "outputs": [],
   "source": []
  },
  {
   "cell_type": "code",
   "execution_count": null,
   "metadata": {},
   "outputs": [],
   "source": [
    "#spark.sql(\"select categoria from precios\").groupBy('categoria').count().show()"
   ]
  },
  {
   "cell_type": "code",
   "execution_count": 30,
   "metadata": {},
   "outputs": [],
   "source": [
    "c=  df.select(countDistinct(\"categoria\"))"
   ]
  },
  {
   "cell_type": "code",
   "execution_count": null,
   "metadata": {},
   "outputs": [],
   "source": [
    "c.show()"
   ]
  },
  {
   "cell_type": "code",
   "execution_count": 34,
   "metadata": {},
   "outputs": [],
   "source": [
    "e = df.select(countDistinct('cadenaComercial'))"
   ]
  },
  {
   "cell_type": "code",
   "execution_count": null,
   "metadata": {},
   "outputs": [],
   "source": [
    "e.show()"
   ]
  },
  {
   "cell_type": "markdown",
   "metadata": {},
   "source": [
    "¿Cuáles son los productos más monitoreados en cada entidad?\n",
    "\n",
    "¿Cuál es la cadena comercial con mayor variedad de productos monitoreados?"
   ]
  },
  {
   "cell_type": "markdown",
   "metadata": {},
   "source": [
    "Toma mucho tiempo asi que probaremos primero las consultas con el .1% de los datos que son 62 mil registros aproximadamente."
   ]
  },
  {
   "cell_type": "code",
   "execution_count": 37,
   "metadata": {},
   "outputs": [],
   "source": [
    "df1 = df.sample(0.001, seed=2021).collect()"
   ]
  },
  {
   "cell_type": "code",
   "execution_count": 39,
   "metadata": {},
   "outputs": [],
   "source": [
    "schema1 = df.schema"
   ]
  },
  {
   "cell_type": "code",
   "execution_count": 42,
   "metadata": {},
   "outputs": [
    {
     "name": "stdout",
     "output_type": "stream",
     "text": [
      "StructType(List(StructField(producto,StringType,true),StructField(presentacion,StringType,true),StructField(marca,StringType,true),StructField(categoria,StringType,true),StructField(catalogo,StringType,true),StructField(precio,StringType,true),StructField(fechaRegistro,StringType,true),StructField(cadenaComercial,StringType,true),StructField(giro,StringType,true),StructField(nombreComercial,StringType,true),StructField(direccion,StringType,true),StructField(estado,StringType,true),StructField(municipio,StringType,true),StructField(latitud,StringType,true),StructField(longitud,StringType,true)))\n",
      "+--------------------+--------------------+--------------------+--------------------+-----------------+------+--------------------+--------------------+--------------------+--------------------+--------------------+--------------------+--------------------+---------+-----------+\n",
      "|            producto|        presentacion|               marca|           categoria|         catalogo|precio|       fechaRegistro|     cadenaComercial|                giro|     nombreComercial|           direccion|              estado|           municipio|  latitud|   longitud|\n",
      "+--------------------+--------------------+--------------------+--------------------+-----------------+------+--------------------+--------------------+--------------------+--------------------+--------------------+--------------------+--------------------+---------+-----------+\n",
      "|REPUESTOS DE NAVAJAS|ESTUCHE CON 2. MA...|            GILLETTE|ARTS. PARA EL CUI...|          BASICOS| 74.62|2011-01-10 00:00:...|  COMERCIAL MEXICANA|TIENDA DE AUTOSER...|COMERCIAL MEXICAN...|AV. LAGO DE GUADA...|              MÉXICO|ATIZAPAN         ...|       NA|         NA|\n",
      "|      CHILES EN LATA|LATA 220 GR. JALA...|    CLEMENTE JACQUES|FRUTAS Y LEGUMBRE...|          BASICOS|   6.7|2011-01-10 00:00:...|            WAL-MART|TIENDA DE AUTOSER...|WAL MART SUCURSAL...|EMILIANO ZAPATA N...|              MÉXICO|NAUCALPAN        ...|19.483909|  -99.23318|\n",
      "|   CAMARAS DIGITALES|PL 100. MEGA PIXE...|             SAMSUNG|APARATOS ELECTRON...|ELECTRODOMESTICOS|  2999|2011-01-10 00:00:...|           LIVERPOOL|TIENDA DE AUTOSER...|LIVERPOOL SUCURSA...|BLVD. J.ALONSO DE...|          GUANAJUATO|LEON             ...|  21.1587|-101.695268|\n",
      "|SERVILLETAS DE PA...|   PAQUETE 250 HOJAS|         DELSEY. MAX|ARTS. DE PAPEL P/...|          BASICOS|  11.6|2011-01-10 00:00:...|        I.S.S.S.T.E.|TIENDA DE AUTOSER...|ISSSTE SUCURSAL N...|PRIVADA  ANTONIO ...|             JALISCO|TLAQUEPAQUE      ...|20.662188|-103.296065|\n",
      "|             ACLORAL|CAJA CON 20 TABLE...|LABORATORIOS LIOM...|        MEDICAMENTOS|     MEDICAMENTOS|  73.5|2011-01-10 00:00:...|            WAL-MART|TIENDA DE AUTOSER...|            WAL MART|BOULEVARD BERNARD...|           QUERÉTARO|SANTIAGO DE QUERE...|20.616196|-100.398477|\n",
      "|  SAL MOLIDA DE MESA|          BOTE 1 KG.|             LA FINA|         CONDIMENTOS|         MERCADOS|   7.8|2011-01-10 00:00:...|FARMACIA GUADALAJARA|TIENDA DE AUTOSER...|FARMACIA GUADALAJ...|IGNACIO PICAZO NO...|            TLAXCALA|CHIAUTEMPAN      ...|19.315867| -98.194514|\n",
      "|   CAMARAS DIGITALES|ES 73. MEGA PIXEL...|             SAMSUNG|APARATOS ELECTRON...|ELECTRODOMESTICOS|  1499|2011-01-10 00:00:...|             ELEKTRA|TIENDA DE ELECTRO...|MEGA ELEKTRA VERA...|AV. 5 DE MAYO NO....|VERACRUZ DE IGNAC...|VERACRUZ         ...|       NA|         NA|\n",
      "|      CHILES EN LATA|LATA 220 GR. JALA...|          LA COSTENA|FRUTAS Y LEGUMBRE...|          BASICOS|   8.5|2011-01-10 00:00:...|     MERCADO ALCALDE|     MERCADO PUBLICO|     MERCADO ALCALDE|LICEO ENTRE HERRE...|             JALISCO|GUADALAJARA      ...|20.681978|-103.346367|\n",
      "|      LECHE EN POLVO|ENTERA. BOLSA 500...|              ALPURA|     LECHE PROCESADA|          BASICOS|  42.8|2011-01-10 00:00:...|            I.M.S.S.|TIENDA DE AUTOSER...|IMSS SUCURSAL CEN...|DR. SALVADOR QUEV...|             JALISCO|GUADALAJARA      ...|20.683213|-103.329311|\n",
      "|  LECHE PASTEURIZADA|  ENTERA. CAJA 1 LT.|     ALPURA. CLASICA|     LECHE PROCESADA|          BASICOS|  11.8|2011-01-10 00:00:...|MEGA COMERCIAL ME...|PANADERIA Y PASTE...|MEGA COMERCIAL ME...|LUIS VEGA Y MONRO...|           QUERÉTARO|SANTIAGO DE QUERE...|       NA|         NA|\n",
      "|   DETERGENTE P/ROPA|BOTELLA 2 LT. LIQ...|          VEL ROSITA|DETERGENTES Y PRO...|          BASICOS| 60.45|2011-01-10 00:00:...|            CASA LEY|TIENDA DE AUTOSER...|CASA LEY SUCURSAL...|AV. MEXICO NO. 11...|             JALISCO|PUERTO VALLARTA  ...|20.617341|-105.231415|\n",
      "|HORTALIZAS CONGEL...|       BOLSA 500 GR.|BROCOLI. FLORETES...|FRUTAS Y LEGUMBRE...|          BASICOS| 24.75|2011-01-10 00:00:...|             SORIANA|TIENDA DE AUTOSER...|SORIANA SUCURSAL ...|AV. RAFAEL CUERVO...|VERACRUZ DE IGNAC...|VERACRUZ         ...|       NA|         NA|\n",
      "|DETERGENTE P/ROPA...|   BOLSA 1 KG. POLVO|                ROMA|DETERGENTES Y PRO...|          BASICOS| 21.38|2011-01-10 00:00:...|            I.M.S.S.|TIENDA DE AUTOSER...|IMSS SUCURSAL CEN...|DR. SALVADOR QUEV...|             JALISCO|GUADALAJARA      ...|20.683213|-103.329311|\n",
      "| PAÑALES DESECHABLES|PAQUETE 40 PIEZAS...|CHICOLASTIC. KIDDIES|ARTS. DE PAPEL P/...|          BASICOS|   127|2011-01-10 00:00:...|MEGA COMERCIAL ME...|TIENDA DE AUTOSER...|MEGA COMERCIAL ME...|CALZ. DE LA VIGA ...|    DISTRITO FEDERAL|IZTAPALAPA       ...|19.373897| -99.122765|\n",
      "|REPUESTOS DE NAVAJAS|ESTUCHE CON 2. MA...|            GILLETTE|ARTS. PARA EL CUI...|          BASICOS| 72.79|2011-01-10 00:00:...|MEGA COMERCIAL ME...|TIENDA DE AUTOSER...|MEGA COMERCIAL ME...|CALZ. DE LA VIGA ...|    DISTRITO FEDERAL|IZTAPALAPA       ...|19.373897| -99.122765|\n",
      "| PAÑALES DESECHABLES|PAQUETE 40 PIEZAS...|          KLEEN BEBE|ARTS. DE PAPEL P/...|          BASICOS|104.47|2011-01-10 00:00:...|              SUMESA|TIENDA DE AUTOSER...|SUMESA SUCURSAL M...|MIER Y PESADO NO....|    DISTRITO FEDERAL|BENITO JUAREZ    ...|       NA|         NA|\n",
      "|        CAFE SOLUBLE|      FRASCO 180 GR.|       NESCAFE DOLCA|                CAFE|          BASICOS|  43.5|2011-01-10 00:00:...|     MERCADO SORIANA|TIENDA DE AUTOSER...|MERCADO SORIANA S...|AV. CALZADA INDEP...|             JALISCO|GUADALAJARA      ...|20.680964|-103.338481|\n",
      "|   DETERGENTE P/ROPA|BOLSA 1 KG. POLVO...|               1 2 3|DETERGENTES Y PRO...|          BASICOS|  24.5|2011-01-10 00:00:...|MEGA COMERCIAL ME...|TIENDA DE AUTOSER...|MEGA COMERCIAL ME...|CALZ. DE LA VIGA ...|    DISTRITO FEDERAL|IZTAPALAPA       ...|19.373897| -99.122765|\n",
      "|LECHE ULTRAPASTEU...|DESCREMADA. CAJA ...|LALA. SILUETTE PL...|     LECHE PROCESADA|          BASICOS|  14.3|2011-01-10 00:00:...|              SUMESA|TIENDA DE AUTOSER...|SUMESA SUCURSAL M...|MIER Y PESADO NO....|    DISTRITO FEDERAL|BENITO JUAREZ    ...|       NA|         NA|\n",
      "| PAÑALES DESECHABLES|PAQUETE 38 PIEZAS...|HUGGIES. ULTRA CO...|ARTS. DE PAPEL P/...|          BASICOS|   170|2011-01-10 00:00:...|      BODEGA AURRERA|TIENDA DE AUTOSER...|BODEGA AURRERA SU...|BLVD. ENRIQUE SAN...|             SINALOA|CULIACAN         ...|24.832389|-107.399082|\n",
      "+--------------------+--------------------+--------------------+--------------------+-----------------+------+--------------------+--------------------+--------------------+--------------------+--------------------+--------------------+--------------------+---------+-----------+\n",
      "only showing top 20 rows\n",
      "\n"
     ]
    }
   ],
   "source": [
    "dfs = spark.createDataFrame(df1,schema1)\n",
    "print(dfs.schema)\n",
    "dfs.show()"
   ]
  },
  {
   "cell_type": "code",
   "execution_count": 43,
   "metadata": {},
   "outputs": [
    {
     "name": "stdout",
     "output_type": "stream",
     "text": [
      "+--------------------+--------------------+--------------------+--------------------+-----------------+------+--------------------+------------------+--------------------+--------------------+--------------------+----------+--------------------+---------+-----------+\n",
      "|            producto|        presentacion|               marca|           categoria|         catalogo|precio|       fechaRegistro|   cadenaComercial|                giro|     nombreComercial|           direccion|    estado|           municipio|  latitud|   longitud|\n",
      "+--------------------+--------------------+--------------------+--------------------+-----------------+------+--------------------+------------------+--------------------+--------------------+--------------------+----------+--------------------+---------+-----------+\n",
      "|REPUESTOS DE NAVAJAS|ESTUCHE CON 2. MA...|            GILLETTE|ARTS. PARA EL CUI...|          BASICOS| 74.62|2011-01-10 00:00:...|COMERCIAL MEXICANA|TIENDA DE AUTOSER...|COMERCIAL MEXICAN...|AV. LAGO DE GUADA...|    MÉXICO|ATIZAPAN         ...|       NA|         NA|\n",
      "|      CHILES EN LATA|LATA 220 GR. JALA...|    CLEMENTE JACQUES|FRUTAS Y LEGUMBRE...|          BASICOS|   6.7|2011-01-10 00:00:...|          WAL-MART|TIENDA DE AUTOSER...|WAL MART SUCURSAL...|EMILIANO ZAPATA N...|    MÉXICO|NAUCALPAN        ...|19.483909|  -99.23318|\n",
      "|   CAMARAS DIGITALES|PL 100. MEGA PIXE...|             SAMSUNG|APARATOS ELECTRON...|ELECTRODOMESTICOS|  2999|2011-01-10 00:00:...|         LIVERPOOL|TIENDA DE AUTOSER...|LIVERPOOL SUCURSA...|BLVD. J.ALONSO DE...|GUANAJUATO|LEON             ...|  21.1587|-101.695268|\n",
      "|SERVILLETAS DE PA...|   PAQUETE 250 HOJAS|         DELSEY. MAX|ARTS. DE PAPEL P/...|          BASICOS|  11.6|2011-01-10 00:00:...|      I.S.S.S.T.E.|TIENDA DE AUTOSER...|ISSSTE SUCURSAL N...|PRIVADA  ANTONIO ...|   JALISCO|TLAQUEPAQUE      ...|20.662188|-103.296065|\n",
      "|             ACLORAL|CAJA CON 20 TABLE...|LABORATORIOS LIOM...|        MEDICAMENTOS|     MEDICAMENTOS|  73.5|2011-01-10 00:00:...|          WAL-MART|TIENDA DE AUTOSER...|            WAL MART|BOULEVARD BERNARD...| QUERÉTARO|SANTIAGO DE QUERE...|20.616196|-100.398477|\n",
      "+--------------------+--------------------+--------------------+--------------------+-----------------+------+--------------------+------------------+--------------------+--------------------+--------------------+----------+--------------------+---------+-----------+\n",
      "only showing top 5 rows\n",
      "\n"
     ]
    }
   ],
   "source": [
    "dfs.createOrReplaceTempView(\"precios1\")\n",
    "spark.sql(\"select * from precios1\").show(n=5)"
   ]
  },
  {
   "cell_type": "code",
   "execution_count": 44,
   "metadata": {},
   "outputs": [
    {
     "name": "stdout",
     "output_type": "stream",
     "text": [
      "+--------------------+-----+\n",
      "|            producto|count|\n",
      "+--------------------+-----+\n",
      "|             LUTORAL|    7|\n",
      "|              VARIOS|  386|\n",
      "|             GYNOVIN|    6|\n",
      "|            KAOMYCIN|    5|\n",
      "|           BEDOYECTA|   24|\n",
      "|              PIERNA|    1|\n",
      "|        PRAVASTATINA|   11|\n",
      "|    SAN RAFAEL. REAL|  121|\n",
      "|            FRIJOLES|  111|\n",
      "|             FOLDERS|   25|\n",
      "|    ACEITUNA. GORDAL|   20|\n",
      "|            GARBANZA|   44|\n",
      "|       FILETE DE RES|    2|\n",
      "|CAFE TOSTADO Y MO...|  198|\n",
      "|            MYCOSPOR|   10|\n",
      "|              COMPAS|   36|\n",
      "|            AMARYL M|   22|\n",
      "|    CALCIGENOL DOBLE|    5|\n",
      "|           GRANEODIN|    5|\n",
      "|            GAMMADOL|    7|\n",
      "+--------------------+-----+\n",
      "only showing top 20 rows\n",
      "\n"
     ]
    }
   ],
   "source": [
    "spark.sql(\"select producto from precios1\").groupBy('producto').count().show()"
   ]
  },
  {
   "cell_type": "code",
   "execution_count": 56,
   "metadata": {
    "scrolled": true
   },
   "outputs": [
    {
     "name": "stdout",
     "output_type": "stream",
     "text": [
      "+--------------------+---------+-----+\n",
      "|              estado| producto|count|\n",
      "+--------------------+---------+-----+\n",
      "| COL. EDUARDO GUERRA|SINGULAIR|    1|\n",
      "| COL. EDUARDO GUERRA|ESMERALDA|    1|\n",
      "| COL. EDUARDO GUERRA|      KIR|    1|\n",
      "| COL. EDUARDO GUERRA|MERMELADA|    1|\n",
      "| COL. EDUARDO GUERRA|  SHAMPOO|    1|\n",
      "+--------------------+---------+-----+\n",
      "only showing top 5 rows\n",
      "\n"
     ]
    }
   ],
   "source": [
    "# ¿Cuáles son los productos más monitoreados en cada entidad?\n",
    "spark.sql(\"select producto, estado from precios1 where estado is not null\").groupBy('estado','producto').count().orderBy('estado').show(5)"
   ]
  },
  {
   "cell_type": "code",
   "execution_count": 50,
   "metadata": {},
   "outputs": [
    {
     "name": "stdout",
     "output_type": "stream",
     "text": [
      "+--------------------+-----+\n",
      "|     cadenaComercial|count|\n",
      "+--------------------+-----+\n",
      "|            WAL-MART| 8520|\n",
      "|      BODEGA AURRERA| 6771|\n",
      "|             SORIANA| 6743|\n",
      "|MEGA COMERCIAL ME...| 4914|\n",
      "|            CHEDRAUI| 4308|\n",
      "+--------------------+-----+\n",
      "only showing top 5 rows\n",
      "\n"
     ]
    }
   ],
   "source": [
    "spark.sql(\"select producto, cadenaComercial from precios1\").groupBy('cadenaComercial').count().orderBy(desc('count')).show(5)"
   ]
  },
  {
   "cell_type": "code",
   "execution_count": 57,
   "metadata": {},
   "outputs": [
    {
     "name": "stdout",
     "output_type": "stream",
     "text": [
      "+----+-----------------+\n",
      "|anio|            sales|\n",
      "+----+-----------------+\n",
      "|2011| 467.377692504144|\n",
      "|2012|504.8278437633048|\n",
      "|2013|455.2684965449124|\n",
      "|2014|491.5235376448037|\n",
      "|2015| 573.692171617195|\n",
      "|2016|564.7799196344075|\n",
      "+----+-----------------+\n",
      "\n"
     ]
    }
   ],
   "source": [
    "spark.sql('SELECT year(fechaRegistro) as anio, avg(precio) as sales FROM precios1 GROUP BY year(fechaRegistro) ORDER BY anio').show()"
   ]
  },
  {
   "cell_type": "markdown",
   "metadata": {},
   "source": [
    "a. Genera una canasta de productos básicos que te permita comparar los precios\n",
    "geográfica y temporalmente. Justifica tu elección y procedimiento.\n",
    "\n",
    "> Tomamos los productos distintos vendidos por municipio.\n",
    "Necesitamos productos que se vendan en al menos un porcentaje del total de municipios. Por ejemplo, considerar los primeros 20 articulos que se venden en al menos 80% de los municipios y ver si el resultado tiene suficientes ejemplos.\n",
    "\n",
    "\n",
    "b. ¿Cuál es la ciudad más cara del país? ¿Cuál es la más barata?\n",
    "\n",
    "> Revisar el precio promedio de cada producto por municipio.\n",
    "\n",
    "\n",
    "c. ¿Hay algún patrón estacional entre años?\n",
    "\n",
    "> Necesitamos revisar el cambio de precio de cada producto en el tiempo.\n",
    "%sql\n",
    "SELECT\n",
    "year(fechaRegistro) as anio, \n",
    "avg(precio) as sales\n",
    "FROM precios1\n",
    "GROUP BY year(fechaRegistro)\n",
    "ORDER BY anio;\n",
    "\n",
    ">%sql\n",
    "SELECT \n",
    "TRUNC(fechaRegistro, 'MM') as mes,\n",
    "avg(precio) as precio\n",
    "FROM precios1\n",
    "GROUP BY TRUNC(fechaRegistro, 'MM')\n",
    "ORDER BY mes;\n",
    "Pero revisando los resultados por municipio e incluso por porducto de la canasta definida anteriormente.\n",
    "\n",
    "d. ¿Cuál es el estado más caro y en qué mes?\n",
    "\n",
    "> Podemos sacarlo de lo anterior.\n",
    "\n",
    "e. ¿Cuáles son los principales riesgos de hacer análisis de series de tiempo con\n",
    "estos datos?\n",
    "\n",
    "- nulos generan problemas en los que podemos dejar con muchos faltantes en los productos o en las entidades.\n",
    "- posiblemente los productos no aparecen en una lista en una entidad solo por falta en su compra. No es homogenea la compra de productos para verificar los precios.\n",
    "- hay un tema de sesgo porque las compras fueron en tiendas de autoservicio (hasta donde recuerdo, falta verificar información)\n",
    "- habría que buscar formas de realizar el análisis de manera eficiente."
   ]
  },
  {
   "cell_type": "code",
   "execution_count": null,
   "metadata": {},
   "outputs": [],
   "source": []
  }
 ],
 "metadata": {
  "kernelspec": {
   "display_name": "Python 3",
   "language": "python",
   "name": "python3"
  },
  "language_info": {
   "codemirror_mode": {
    "name": "ipython",
    "version": 3
   },
   "file_extension": ".py",
   "mimetype": "text/x-python",
   "name": "python",
   "nbconvert_exporter": "python",
   "pygments_lexer": "ipython3",
   "version": "3.8.5"
  }
 },
 "nbformat": 4,
 "nbformat_minor": 4
}
